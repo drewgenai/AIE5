{
  "cells": [
    {
      "cell_type": "markdown",
      "metadata": {
        "id": "e-IqJAMkwnCF"
      },
      "source": [
        "# Advanced Retrieval with LangChain\n",
        "\n",
        "In the following notebook, we'll explore various methods of advanced retrieval using LangChain!\n",
        "\n",
        "We'll touch on:\n",
        "\n",
        "- Naive Retrieval\n",
        "- Best-Matching 25 (BM25)\n",
        "- Multi-Query Retrieval\n",
        "- Parent-Document Retrieval\n",
        "- Contextual Compression (a.k.a. Rerank)\n",
        "- Ensemble Retrieval\n",
        "- Semantic chunking\n",
        "\n",
        "We'll also discuss how these methods impact performance on our set of documents with a simple RAG chain.\n",
        "\n",
        "There will be two breakout rooms:\n",
        "\n",
        "- 🤝 Breakout Room Part #1\n",
        "  - Task 1: Getting Dependencies!\n",
        "  - Task 2: Data Collection and Preparation\n",
        "  - Task 3: Setting Up QDrant!\n",
        "  - Task 4-10: Retrieval Strategies\n",
        "- 🤝 Breakout Room Part #2\n",
        "  - Activity: Evaluate with Ragas"
      ]
    },
    {
      "cell_type": "markdown",
      "metadata": {
        "id": "4rKP3hgHivpe"
      },
      "source": [
        "# 🤝 Breakout Room Part #1"
      ]
    },
    {
      "cell_type": "markdown",
      "metadata": {
        "id": "3xes8oT-xHN7"
      },
      "source": [
        "## Task 1: Getting Dependencies!\n",
        "\n",
        "We're going to need a few specific LangChain community packages, like OpenAI (for our [LLM](https://platform.openai.com/docs/models) and [Embedding Model](https://platform.openai.com/docs/guides/embeddings)) and Cohere (for our [Reranker](https://cohere.com/rerank)).\n",
        "\n",
        "> You do not need to run the following cells if you are running this notebook locally. "
      ]
    },
    {
      "cell_type": "code",
      "execution_count": null,
      "metadata": {
        "colab": {
          "base_uri": "https://localhost:8080/"
        },
        "id": "MkgFAXWVW3wm",
        "outputId": "636db35c-f05a-4038-ec7a-02360bef2dae"
      },
      "outputs": [
        {
          "name": "stdout",
          "output_type": "stream",
          "text": [
            "\u001b[?25l   \u001b[90m━━━━━━━━━━━━━━━━━━━━━━━━━━━━━━━━━━━━━━━━\u001b[0m \u001b[32m0.0/49.6 kB\u001b[0m \u001b[31m?\u001b[0m eta \u001b[36m-:--:--\u001b[0m\r\u001b[2K   \u001b[90m━━━━━━━━━━━━━━━━━━━━━━━━━━━━━━━━━━━━━━━━\u001b[0m \u001b[32m49.6/49.6 kB\u001b[0m \u001b[31m3.2 MB/s\u001b[0m eta \u001b[36m0:00:00\u001b[0m\n",
            "\u001b[?25h\u001b[?25l   \u001b[90m━━━━━━━━━━━━━━━━━━━━━━━━━━━━━━━━━━━━━━━━\u001b[0m \u001b[32m0.0/44.0 kB\u001b[0m \u001b[31m?\u001b[0m eta \u001b[36m-:--:--\u001b[0m\r\u001b[2K   \u001b[90m━━━━━━━━━━━━━━━━━━━━━━━━━━━━━━━━━━━━━━━━\u001b[0m \u001b[32m44.0/44.0 kB\u001b[0m \u001b[31m2.3 MB/s\u001b[0m eta \u001b[36m0:00:00\u001b[0m\n",
            "\u001b[?25h\u001b[?25l   \u001b[90m━━━━━━━━━━━━━━━━━━━━━━━━━━━━━━━━━━━━━━━━\u001b[0m \u001b[32m0.0/233.1 kB\u001b[0m \u001b[31m?\u001b[0m eta \u001b[36m-:--:--\u001b[0m\r\u001b[2K   \u001b[90m━━━━━━━━━━━━━━━━━━━━━━━━━━━━━━━━━━━━━━━━\u001b[0m \u001b[32m233.1/233.1 kB\u001b[0m \u001b[31m8.0 MB/s\u001b[0m eta \u001b[36m0:00:00\u001b[0m\n",
            "\u001b[2K   \u001b[90m━━━━━━━━━━━━━━━━━━━━━━━━━━━━━━━━━━━━━━━━\u001b[0m \u001b[32m378.1/378.1 kB\u001b[0m \u001b[31m15.9 MB/s\u001b[0m eta \u001b[36m0:00:00\u001b[0m\n",
            "\u001b[2K   \u001b[90m━━━━━━━━━━━━━━━━━━━━━━━━━━━━━━━━━━━━━━━━\u001b[0m \u001b[32m1.1/1.1 MB\u001b[0m \u001b[31m37.4 MB/s\u001b[0m eta \u001b[36m0:00:00\u001b[0m\n",
            "\u001b[2K   \u001b[90m━━━━━━━━━━━━━━━━━━━━━━━━━━━━━━━━━━━━━━━━\u001b[0m \u001b[32m139.1/139.1 kB\u001b[0m \u001b[31m8.5 MB/s\u001b[0m eta \u001b[36m0:00:00\u001b[0m\n",
            "\u001b[2K   \u001b[90m━━━━━━━━━━━━━━━━━━━━━━━━━━━━━━━━━━━━━━━━\u001b[0m \u001b[32m3.1/3.1 MB\u001b[0m \u001b[31m58.2 MB/s\u001b[0m eta \u001b[36m0:00:00\u001b[0m\n",
            "\u001b[2K   \u001b[90m━━━━━━━━━━━━━━━━━━━━━━━━━━━━━━━━━━━━━━━━\u001b[0m \u001b[32m318.9/318.9 kB\u001b[0m \u001b[31m16.9 MB/s\u001b[0m eta \u001b[36m0:00:00\u001b[0m\n",
            "\u001b[2K   \u001b[90m━━━━━━━━━━━━━━━━━━━━━━━━━━━━━━━━━━━━━━━━\u001b[0m \u001b[32m12.6/12.6 MB\u001b[0m \u001b[31m63.4 MB/s\u001b[0m eta \u001b[36m0:00:00\u001b[0m\n",
            "\u001b[2K   \u001b[90m━━━━━━━━━━━━━━━━━━━━━━━━━━━━━━━━━━━━━━━━\u001b[0m \u001b[32m82.7/82.7 kB\u001b[0m \u001b[31m5.2 MB/s\u001b[0m eta \u001b[36m0:00:00\u001b[0m\n",
            "\u001b[?25h"
          ]
        }
      ],
      "source": [
        "#!pip install -qU langchain langchain-openai langchain-cohere rank_bm25"
      ]
    },
    {
      "cell_type": "markdown",
      "metadata": {
        "id": "dKqYM4Eoxcov"
      },
      "source": [
        "We're also going to be leveraging [Qdrant's](https://qdrant.tech/documentation/frameworks/langchain/) (pronounced \"Quadrant\") VectorDB in \"memory\" mode (so we can leverage it locally in our colab environment)."
      ]
    },
    {
      "cell_type": "code",
      "execution_count": null,
      "metadata": {
        "id": "s6xav5CxYnML"
      },
      "outputs": [],
      "source": [
        "#!pip install -qU qdrant-client"
      ]
    },
    {
      "cell_type": "markdown",
      "metadata": {
        "id": "Z7OHJXzfyJyA"
      },
      "source": [
        "We'll also provide our OpenAI key, as well as our Cohere API key."
      ]
    },
    {
      "cell_type": "code",
      "execution_count": 10,
      "metadata": {
        "colab": {
          "base_uri": "https://localhost:8080/"
        },
        "id": "7LttlDQUYgSI",
        "outputId": "9dca95ab-4d02-4adf-ec3f-cb831326dc54"
      },
      "outputs": [],
      "source": [
        "import os\n",
        "import getpass\n",
        "\n",
        "os.environ[\"OPENAI_API_KEY\"] = getpass.getpass(\"Enter your OpenAI API Key:\")"
      ]
    },
    {
      "cell_type": "code",
      "execution_count": 11,
      "metadata": {
        "colab": {
          "base_uri": "https://localhost:8080/"
        },
        "id": "3iUahNiJyQbv",
        "outputId": "78bf06ef-2ee8-46c3-f73d-27958b4dd79b"
      },
      "outputs": [],
      "source": [
        "os.environ[\"COHERE_API_KEY\"] = getpass.getpass(\"Cohere API Key:\")"
      ]
    },
    {
      "cell_type": "markdown",
      "metadata": {
        "id": "B0pDRFEWSXvh"
      },
      "source": []
    },
    {
      "cell_type": "markdown",
      "metadata": {
        "id": "mw304iAFyRtl"
      },
      "source": [
        "## Task 2: Data Collection and Preparation\n",
        "\n",
        "We'll be using some reviews from the 4 movies in the John Wick franchise today to explore the different retrieval strategies.\n",
        "\n",
        "These were obtained from IMDB, and are available in the [AIM Data Repository](https://github.com/AI-Maker-Space/DataRepository)."
      ]
    },
    {
      "cell_type": "markdown",
      "metadata": {
        "id": "xXKHcZmKzDwT"
      },
      "source": [
        "### Data Collection\n",
        "\n",
        "We can simply `wget` these from GitHub.\n",
        "\n",
        "You could use any review data you wanted in this step - just be careful to make sure your metadata is aligned with your choice."
      ]
    },
    {
      "cell_type": "code",
      "execution_count": 12,
      "metadata": {
        "colab": {
          "base_uri": "https://localhost:8080/"
        },
        "id": "vbbSIGtzX3dS",
        "outputId": "0ce6514e-2479-4001-af24-824f987ce599"
      },
      "outputs": [
        {
          "name": "stdout",
          "output_type": "stream",
          "text": [
            "--2025-03-03 19:30:42--  https://raw.githubusercontent.com/AI-Maker-Space/DataRepository/main/jw1.csv\n",
            "Resolving raw.githubusercontent.com (raw.githubusercontent.com)... 185.199.109.133, 185.199.111.133, 185.199.108.133, ...\n",
            "Connecting to raw.githubusercontent.com (raw.githubusercontent.com)|185.199.109.133|:443... connected.\n",
            "HTTP request sent, awaiting response... 200 OK\n",
            "Length: 19628 (19K) [text/plain]\n",
            "Saving to: ‘john_wick_1.csv’\n",
            "\n",
            "john_wick_1.csv     100%[===================>]  19.17K  --.-KB/s    in 0.003s  \n",
            "\n",
            "2025-03-03 19:30:42 (5.99 MB/s) - ‘john_wick_1.csv’ saved [19628/19628]\n",
            "\n",
            "--2025-03-03 19:30:42--  https://raw.githubusercontent.com/AI-Maker-Space/DataRepository/main/jw2.csv\n",
            "Resolving raw.githubusercontent.com (raw.githubusercontent.com)... 185.199.111.133, 185.199.109.133, 185.199.108.133, ...\n",
            "Connecting to raw.githubusercontent.com (raw.githubusercontent.com)|185.199.111.133|:443... connected.\n",
            "HTTP request sent, awaiting response... 200 OK\n",
            "Length: 14747 (14K) [text/plain]\n",
            "Saving to: ‘john_wick_2.csv’\n",
            "\n",
            "john_wick_2.csv     100%[===================>]  14.40K  --.-KB/s    in 0.003s  \n",
            "\n",
            "2025-03-03 19:30:42 (5.21 MB/s) - ‘john_wick_2.csv’ saved [14747/14747]\n",
            "\n",
            "--2025-03-03 19:30:42--  https://raw.githubusercontent.com/AI-Maker-Space/DataRepository/main/jw3.csv\n",
            "Resolving raw.githubusercontent.com (raw.githubusercontent.com)... 185.199.111.133, 185.199.109.133, 185.199.108.133, ...\n",
            "Connecting to raw.githubusercontent.com (raw.githubusercontent.com)|185.199.111.133|:443... connected.\n",
            "HTTP request sent, awaiting response... 200 OK\n",
            "Length: 13888 (14K) [text/plain]\n",
            "Saving to: ‘john_wick_3.csv’\n",
            "\n",
            "john_wick_3.csv     100%[===================>]  13.56K  --.-KB/s    in 0.002s  \n",
            "\n",
            "2025-03-03 19:30:43 (7.75 MB/s) - ‘john_wick_3.csv’ saved [13888/13888]\n",
            "\n",
            "--2025-03-03 19:30:43--  https://raw.githubusercontent.com/AI-Maker-Space/DataRepository/main/jw4.csv\n",
            "Resolving raw.githubusercontent.com (raw.githubusercontent.com)... 185.199.109.133, 185.199.108.133, 185.199.110.133, ...\n",
            "Connecting to raw.githubusercontent.com (raw.githubusercontent.com)|185.199.109.133|:443... connected.\n",
            "HTTP request sent, awaiting response... 200 OK\n",
            "Length: 15109 (15K) [text/plain]\n",
            "Saving to: ‘john_wick_4.csv’\n",
            "\n",
            "john_wick_4.csv     100%[===================>]  14.75K  --.-KB/s    in 0.001s  \n",
            "\n",
            "2025-03-03 19:30:43 (10.0 MB/s) - ‘john_wick_4.csv’ saved [15109/15109]\n",
            "\n"
          ]
        }
      ],
      "source": [
        "!wget https://raw.githubusercontent.com/AI-Maker-Space/DataRepository/main/jw1.csv -O john_wick_1.csv\n",
        "!wget https://raw.githubusercontent.com/AI-Maker-Space/DataRepository/main/jw2.csv -O john_wick_2.csv\n",
        "!wget https://raw.githubusercontent.com/AI-Maker-Space/DataRepository/main/jw3.csv -O john_wick_3.csv\n",
        "!wget https://raw.githubusercontent.com/AI-Maker-Space/DataRepository/main/jw4.csv -O john_wick_4.csv"
      ]
    },
    {
      "cell_type": "markdown",
      "metadata": {
        "id": "A92NC2QZzCsi"
      },
      "source": [
        "### Data Preparation\n",
        "\n",
        "We want to make sure all our documents have the relevant metadata for the various retrieval strategies we're going to be applying today.\n",
        "\n",
        "- Self-Query: Wants as much metadata as we can provide\n",
        "- Time-weighted: Wants temporal data\n",
        "\n",
        "> NOTE: While we're creating a temporal relationship based on when these movies came out for illustrative purposes, it needs to be clear that the \"time-weighting\" in the Time-weighted Retriever is based on when the document was *accessed* last - not when it was created."
      ]
    },
    {
      "cell_type": "code",
      "execution_count": 13,
      "metadata": {
        "id": "GshBjVRJZ6p8"
      },
      "outputs": [],
      "source": [
        "from langchain_community.document_loaders.csv_loader import CSVLoader\n",
        "from datetime import datetime, timedelta\n",
        "\n",
        "documents = []\n",
        "\n",
        "for i in range(1, 5):\n",
        "  loader = CSVLoader(\n",
        "      file_path=f\"john_wick_{i}.csv\",\n",
        "      metadata_columns=[\"Review_Date\", \"Review_Title\", \"Review_Url\", \"Author\", \"Rating\"]\n",
        "  )\n",
        "\n",
        "  movie_docs = loader.load()\n",
        "  for doc in movie_docs:\n",
        "\n",
        "    # Add the \"Movie Title\" (John Wick 1, 2, ...)\n",
        "    doc.metadata[\"Movie_Title\"] = f\"John Wick {i}\"\n",
        "\n",
        "    # convert \"Rating\" to an `int`, if no rating is provided - assume 0 rating\n",
        "    doc.metadata[\"Rating\"] = int(doc.metadata[\"Rating\"]) if doc.metadata[\"Rating\"] else 0\n",
        "\n",
        "    # newer movies have a more recent \"last_accessed_at\"\n",
        "    doc.metadata[\"last_accessed_at\"] = datetime.now() - timedelta(days=4-i)\n",
        "\n",
        "  documents.extend(movie_docs)"
      ]
    },
    {
      "cell_type": "markdown",
      "metadata": {
        "id": "9gQphb6y0C0S"
      },
      "source": [
        "Let's look at an example document to see if everything worked as expected!"
      ]
    },
    {
      "cell_type": "code",
      "execution_count": 14,
      "metadata": {
        "colab": {
          "base_uri": "https://localhost:8080/"
        },
        "id": "PkUkCf7DaMiq",
        "outputId": "e90bd5da-1d87-423b-838a-cb6efc16b199"
      },
      "outputs": [
        {
          "data": {
            "text/plain": [
              "Document(metadata={'source': 'john_wick_1.csv', 'row': 0, 'Review_Date': '6 May 2015', 'Review_Title': ' Kinetic, concise, and stylish; John Wick kicks ass.\\n', 'Review_Url': '/review/rw3233896/?ref_=tt_urv', 'Author': 'lnvicta', 'Rating': 8, 'Movie_Title': 'John Wick 1', 'last_accessed_at': datetime.datetime(2025, 2, 28, 19, 30, 43, 498329)}, page_content=\": 0\\nReview: The best way I can describe John Wick is to picture Taken but instead of Liam Neeson it's Keanu Reeves and instead of his daughter it's his dog. That's essentially the plot of the movie. John Wick (Reeves) is out to seek revenge on the people who took something he loved from him. It's a beautifully simple premise for an action movie - when action movies get convoluted, they get bad i.e. A Good Day to Die Hard. John Wick gives the viewers what they want: Awesome action, stylish stunts, kinetic chaos, and a relatable hero to tie it all together. John Wick succeeds in its simplicity.\")"
            ]
          },
          "execution_count": 14,
          "metadata": {},
          "output_type": "execute_result"
        }
      ],
      "source": [
        "documents[0]"
      ]
    },
    {
      "cell_type": "markdown",
      "metadata": {
        "id": "lWaQpdHl0Gzc"
      },
      "source": [
        "## Task 3: Setting up QDrant!\n",
        "\n",
        "Now that we have our documents, let's create a QDrant VectorStore with the collection name \"JohnWick\".\n",
        "\n",
        "We'll leverage OpenAI's [`text-embedding-3-small`](https://openai.com/blog/new-embedding-models-and-api-updates) because it's a very powerful (and low-cost) embedding model.\n",
        "\n",
        "> NOTE: We'll be creating additional vectorstores where necessary, but this pattern is still extremely useful."
      ]
    },
    {
      "cell_type": "code",
      "execution_count": 15,
      "metadata": {
        "id": "NT8ihRJbYmMT"
      },
      "outputs": [],
      "source": [
        "from langchain_community.vectorstores import Qdrant\n",
        "from langchain_openai import OpenAIEmbeddings\n",
        "\n",
        "embeddings = OpenAIEmbeddings(model=\"text-embedding-3-small\")\n",
        "\n",
        "vectorstore = Qdrant.from_documents(\n",
        "    documents,\n",
        "    embeddings,\n",
        "    location=\":memory:\",\n",
        "    collection_name=\"JohnWick\"\n",
        ")"
      ]
    },
    {
      "cell_type": "markdown",
      "metadata": {
        "id": "-x2SS4Rh0hiN"
      },
      "source": [
        "## Task 4: Naive RAG Chain\n",
        "\n",
        "Since we're focusing on the \"R\" in RAG today - we'll create our Retriever first."
      ]
    },
    {
      "cell_type": "markdown",
      "metadata": {
        "id": "NEH7X5Ai08FH"
      },
      "source": [
        "### R - Retrieval\n",
        "\n",
        "This naive retriever will simply look at each review as a document, and use cosine-similarity to fetch the 10 most relevant documents.\n",
        "\n",
        "> NOTE: We're choosing `10` as our `k` here to provide enough documents for our reranking process later"
      ]
    },
    {
      "cell_type": "code",
      "execution_count": 16,
      "metadata": {
        "id": "GFDPrNBtb72o"
      },
      "outputs": [],
      "source": [
        "naive_retriever = vectorstore.as_retriever(search_kwargs={\"k\" : 10})"
      ]
    },
    {
      "cell_type": "markdown",
      "metadata": {
        "id": "MbBhyQjz06dx"
      },
      "source": [
        "### A - Augmented\n",
        "\n",
        "We're going to go with a standard prompt for our simple RAG chain today! Nothing fancy here, we want this to mostly be about the Retrieval process."
      ]
    },
    {
      "cell_type": "code",
      "execution_count": 17,
      "metadata": {
        "id": "7uSz-Dbqcoki"
      },
      "outputs": [],
      "source": [
        "from langchain_core.prompts import ChatPromptTemplate\n",
        "\n",
        "RAG_TEMPLATE = \"\"\"\\\n",
        "You are a helpful and kind assistant. Use the context provided below to answer the question.\n",
        "\n",
        "If you do not know the answer, or are unsure, say you don't know.\n",
        "\n",
        "Query:\n",
        "{question}\n",
        "\n",
        "Context:\n",
        "{context}\n",
        "\"\"\"\n",
        "\n",
        "rag_prompt = ChatPromptTemplate.from_template(RAG_TEMPLATE)"
      ]
    },
    {
      "cell_type": "markdown",
      "metadata": {
        "id": "BlRzpb231GGJ"
      },
      "source": [
        "### G - Generation\n",
        "\n",
        "We're going to leverage `gpt-3.5-turbo` as our LLM today, as - again - we want this to largely be about the Retrieval process."
      ]
    },
    {
      "cell_type": "code",
      "execution_count": 18,
      "metadata": {
        "id": "c-1t9H60dJLg"
      },
      "outputs": [],
      "source": [
        "from langchain_openai import ChatOpenAI\n",
        "\n",
        "chat_model = ChatOpenAI()"
      ]
    },
    {
      "cell_type": "markdown",
      "metadata": {
        "id": "mg3QRGzA1M2x"
      },
      "source": [
        "### LCEL RAG Chain\n",
        "\n",
        "We're going to use LCEL to construct our chain.\n",
        "\n",
        "> NOTE: This chain will be exactly the same across the various examples with the exception of our Retriever!"
      ]
    },
    {
      "cell_type": "code",
      "execution_count": 19,
      "metadata": {
        "id": "0bvstS7mdOW3"
      },
      "outputs": [],
      "source": [
        "from langchain_core.runnables import RunnablePassthrough\n",
        "from operator import itemgetter\n",
        "from langchain_core.output_parsers import StrOutputParser\n",
        "\n",
        "naive_retrieval_chain = (\n",
        "    # INVOKE CHAIN WITH: {\"question\" : \"<<SOME USER QUESTION>>\"}\n",
        "    # \"question\" : populated by getting the value of the \"question\" key\n",
        "    # \"context\"  : populated by getting the value of the \"question\" key and chaining it into the base_retriever\n",
        "    {\"context\": itemgetter(\"question\") | naive_retriever, \"question\": itemgetter(\"question\")}\n",
        "    # \"context\"  : is assigned to a RunnablePassthrough object (will not be called or considered in the next step)\n",
        "    #              by getting the value of the \"context\" key from the previous step\n",
        "    | RunnablePassthrough.assign(context=itemgetter(\"context\"))\n",
        "    # \"response\" : the \"context\" and \"question\" values are used to format our prompt object and then piped\n",
        "    #              into the LLM and stored in a key called \"response\"\n",
        "    # \"context\"  : populated by getting the value of the \"context\" key from the previous step\n",
        "    | {\"response\": rag_prompt | chat_model, \"context\": itemgetter(\"context\")}\n",
        ")"
      ]
    },
    {
      "cell_type": "markdown",
      "metadata": {
        "id": "izKujhNb1ZG8"
      },
      "source": [
        "Let's see how this simple chain does on a few different prompts.\n",
        "\n",
        "> NOTE: You might think that we've cherry picked prompts that showcase the individual skill of each of the retrieval strategies - you'd be correct!"
      ]
    },
    {
      "cell_type": "code",
      "execution_count": 20,
      "metadata": {
        "colab": {
          "base_uri": "https://localhost:8080/",
          "height": 36
        },
        "id": "LI-5ueEddku9",
        "outputId": "7f3cec18-5f4e-41bb-cf71-51ba0be5388e"
      },
      "outputs": [
        {
          "data": {
            "text/plain": [
              "'Yes, people generally liked the John Wick movies based on the positive reviews provided.'"
            ]
          },
          "execution_count": 20,
          "metadata": {},
          "output_type": "execute_result"
        }
      ],
      "source": [
        "naive_retrieval_chain.invoke({\"question\" : \"Did people generally like John Wick?\"})[\"response\"].content"
      ]
    },
    {
      "cell_type": "code",
      "execution_count": 21,
      "metadata": {
        "colab": {
          "base_uri": "https://localhost:8080/",
          "height": 36
        },
        "id": "43zdcdUydtXh",
        "outputId": "db874e67-f568-4ed1-b863-b7c17b387052"
      },
      "outputs": [
        {
          "data": {
            "text/plain": [
              "\"Yes, there is a review with a rating of 10. Here is the URL to that review: '/review/rw4854296/?ref_=tt_urv'\""
            ]
          },
          "execution_count": 21,
          "metadata": {},
          "output_type": "execute_result"
        }
      ],
      "source": [
        "naive_retrieval_chain.invoke({\"question\" : \"Do any reviews have a rating of 10? If so - can I have the URLs to those reviews?\"})[\"response\"].content"
      ]
    },
    {
      "cell_type": "code",
      "execution_count": 22,
      "metadata": {
        "colab": {
          "base_uri": "https://localhost:8080/",
          "height": 70
        },
        "id": "lpG6rlvvvKFq",
        "outputId": "a1b330b0-628e-41be-d829-9c1d55e781f5"
      },
      "outputs": [
        {
          "data": {
            "text/plain": [
              "'In the first John Wick movie, an ex-hitman comes out of retirement to seek vengeance against the gangsters who killed his dog and took everything from him. The story revolves around John Wick facing off against Russian mobsters who underestimate his lethal capacity, leading to intense action sequences and fights as he seeks retribution.'"
            ]
          },
          "execution_count": 22,
          "metadata": {},
          "output_type": "execute_result"
        }
      ],
      "source": [
        "naive_retrieval_chain.invoke({\"question\" : \"What happened in John Wick?\"})[\"response\"].content"
      ]
    },
    {
      "cell_type": "markdown",
      "metadata": {
        "id": "jsbfQmbr1leg"
      },
      "source": [
        "Overall, this is not bad! Let's see if we can make it better!"
      ]
    },
    {
      "cell_type": "markdown",
      "metadata": {
        "id": "Ft1vt8HPR16w"
      },
      "source": [
        "## Task 5: Best-Matching 25 (BM25) Retriever\n",
        "\n",
        "Taking a step back in time - [BM25](https://www.nowpublishers.com/article/Details/INR-019) is based on [Bag-Of-Words](https://en.wikipedia.org/wiki/Bag-of-words_model) which is a sparse representation of text.\n",
        "\n",
        "In essence, it's a way to compare how similar two pieces of text are based on the words they both contain.\n",
        "\n",
        "This retriever is very straightforward to set-up! Let's see it happen down below!\n"
      ]
    },
    {
      "cell_type": "code",
      "execution_count": 23,
      "metadata": {
        "id": "qdF4wuj5R-cG"
      },
      "outputs": [],
      "source": [
        "from langchain_community.retrievers import BM25Retriever\n",
        "\n",
        "bm25_retriever = BM25Retriever.from_documents(documents)"
      ]
    },
    {
      "cell_type": "markdown",
      "metadata": {
        "id": "KIjJlBQ8drKH"
      },
      "source": [
        "We'll construct the same chain - only changing the retriever."
      ]
    },
    {
      "cell_type": "code",
      "execution_count": 24,
      "metadata": {
        "id": "WR15EQG7SLuw"
      },
      "outputs": [],
      "source": [
        "bm25_retrieval_chain = (\n",
        "    {\"context\": itemgetter(\"question\") | bm25_retriever, \"question\": itemgetter(\"question\")}\n",
        "    | RunnablePassthrough.assign(context=itemgetter(\"context\"))\n",
        "    | {\"response\": rag_prompt | chat_model, \"context\": itemgetter(\"context\")}\n",
        ")"
      ]
    },
    {
      "cell_type": "markdown",
      "metadata": {
        "id": "0Gi-yXCDdvJk"
      },
      "source": [
        "Let's look at the responses!"
      ]
    },
    {
      "cell_type": "code",
      "execution_count": 25,
      "metadata": {
        "colab": {
          "base_uri": "https://localhost:8080/",
          "height": 53
        },
        "id": "oY9qzmm3SOrF",
        "outputId": "4d4f450f-5978-460f-f242-b32407868353"
      },
      "outputs": [
        {
          "data": {
            "text/plain": [
              "\"People's opinions on John Wick seem to vary. Some individuals really enjoy the movie, praising its action sequences, style, and simplicity. Others, however, find it lacking in substance, character development, and plot. Overall, the reviews are mixed, so it's difficult to definitively say whether people generally liked John Wick or not.\""
            ]
          },
          "execution_count": 25,
          "metadata": {},
          "output_type": "execute_result"
        }
      ],
      "source": [
        "bm25_retrieval_chain.invoke({\"question\" : \"Did people generally like John Wick?\"})[\"response\"].content"
      ]
    },
    {
      "cell_type": "code",
      "execution_count": 26,
      "metadata": {
        "colab": {
          "base_uri": "https://localhost:8080/",
          "height": 36
        },
        "id": "igfinyneSQkh",
        "outputId": "9752d4a9-dd16-45b1-f63f-a76e93a05eb3"
      },
      "outputs": [
        {
          "data": {
            "text/plain": [
              "\"I don't know.\""
            ]
          },
          "execution_count": 26,
          "metadata": {},
          "output_type": "execute_result"
        }
      ],
      "source": [
        "bm25_retrieval_chain.invoke({\"question\" : \"Do any reviews have a rating of 10? If so - can I have the URLs to those reviews?\"})[\"response\"].content"
      ]
    },
    {
      "cell_type": "code",
      "execution_count": 27,
      "metadata": {
        "colab": {
          "base_uri": "https://localhost:8080/",
          "height": 53
        },
        "id": "w0H7pV_USSMQ",
        "outputId": "bdead654-3109-4143-9a30-e1d6ca8dc534"
      },
      "outputs": [
        {
          "data": {
            "text/plain": [
              "'In John Wick, the action is beautifully choreographed and the setup is surprisingly emotional for an action flick. Keanu Reeves stars in the movie. If you love action or even just like it, you will have a great time watching this film.'"
            ]
          },
          "execution_count": 27,
          "metadata": {},
          "output_type": "execute_result"
        }
      ],
      "source": [
        "bm25_retrieval_chain.invoke({\"question\" : \"What happened in John Wick?\"})[\"response\"].content"
      ]
    },
    {
      "cell_type": "markdown",
      "metadata": {
        "id": "zvg5xHaUdxCl"
      },
      "source": [
        "It's not clear that this is better or worse - but the `I don't know` isn't great!"
      ]
    },
    {
      "cell_type": "markdown",
      "metadata": {
        "id": "Q-dcbFn2vpZF"
      },
      "source": [
        "## Task 6: Contextual Compression (Using Reranking)\n",
        "\n",
        "Contextual Compression is a fairly straightforward idea: We want to \"compress\" our retrieved context into just the most useful bits.\n",
        "\n",
        "There are a few ways we can achieve this - but we're going to look at a specific example called reranking.\n",
        "\n",
        "The basic idea here is this:\n",
        "\n",
        "- We retrieve lots of documents that are very likely related to our query vector\n",
        "- We \"compress\" those documents into a smaller set of *more* related documents using a reranking algorithm.\n",
        "\n",
        "We'll be leveraging Cohere's Rerank model for our reranker today!\n",
        "\n",
        "All we need to do is the following:\n",
        "\n",
        "- Create a basic retriever\n",
        "- Create a compressor (reranker, in this case)\n",
        "\n",
        "That's it!\n",
        "\n",
        "Let's see it in the code below!"
      ]
    },
    {
      "cell_type": "code",
      "execution_count": 28,
      "metadata": {
        "id": "psHvO2K1v_ZQ"
      },
      "outputs": [],
      "source": [
        "from langchain.retrievers.contextual_compression import ContextualCompressionRetriever\n",
        "from langchain_cohere import CohereRerank\n",
        "\n",
        "compressor = CohereRerank(model=\"rerank-english-v3.0\")\n",
        "compression_retriever = ContextualCompressionRetriever(\n",
        "    base_compressor=compressor, base_retriever=naive_retriever\n",
        ")"
      ]
    },
    {
      "cell_type": "markdown",
      "metadata": {
        "id": "_TA9RB2x-j7P"
      },
      "source": [
        "Let's create our chain again, and see how this does!"
      ]
    },
    {
      "cell_type": "code",
      "execution_count": 29,
      "metadata": {
        "id": "1BXqmxvHwX6T"
      },
      "outputs": [],
      "source": [
        "contextual_compression_retrieval_chain = (\n",
        "    {\"context\": itemgetter(\"question\") | compression_retriever, \"question\": itemgetter(\"question\")}\n",
        "    | RunnablePassthrough.assign(context=itemgetter(\"context\"))\n",
        "    | {\"response\": rag_prompt | chat_model, \"context\": itemgetter(\"context\")}\n",
        ")"
      ]
    },
    {
      "cell_type": "code",
      "execution_count": 30,
      "metadata": {
        "colab": {
          "base_uri": "https://localhost:8080/",
          "height": 36
        },
        "id": "V3iGpokswcBb",
        "outputId": "f15d2aa1-5e8b-417d-f623-eb835d072e59"
      },
      "outputs": [
        {
          "data": {
            "text/plain": [
              "\"Based on the reviews provided, it seems that people generally liked John Wick. The movie was praised for its slickness, brilliant action sequences, and Keanu Reeves' performance as the titular character. Reviewers mentioned that it was a fun, violent, and entertaining film that kept viewers engaged throughout. Overall, it received positive feedback from those who watched it.\""
            ]
          },
          "execution_count": 30,
          "metadata": {},
          "output_type": "execute_result"
        }
      ],
      "source": [
        "contextual_compression_retrieval_chain.invoke({\"question\" : \"Did people generally like John Wick?\"})[\"response\"].content"
      ]
    },
    {
      "cell_type": "code",
      "execution_count": 31,
      "metadata": {
        "colab": {
          "base_uri": "https://localhost:8080/",
          "height": 53
        },
        "id": "7u_k0i4OweUd",
        "outputId": "be5fccc8-2352-4189-c524-bbeaa28cf799"
      },
      "outputs": [
        {
          "data": {
            "text/plain": [
              "\"Yes, there is a review with a rating of 10. Here is the URL to that review: '/review/rw4854296/?ref_=tt_urv'\""
            ]
          },
          "execution_count": 31,
          "metadata": {},
          "output_type": "execute_result"
        }
      ],
      "source": [
        "contextual_compression_retrieval_chain.invoke({\"question\" : \"Do any reviews have a rating of 10? If so - can I have the URLs to those reviews?\"})[\"response\"].content"
      ]
    },
    {
      "cell_type": "code",
      "execution_count": 32,
      "metadata": {
        "colab": {
          "base_uri": "https://localhost:8080/",
          "height": 70
        },
        "id": "zn1EqaGqweXN",
        "outputId": "42bc5972-4164-46eb-f49d-4272f39bb89b"
      },
      "outputs": [
        {
          "data": {
            "text/plain": [
              "\"In John Wick 2, after resolving his issues with the Russian mafia, John Wick is forced back into action by mobster Santino D'Antonio to honor a marker. When John completes the task, Santino puts a contract on him leading to a chase with assassins. Wick promises to kill Santino in retaliation.\""
            ]
          },
          "execution_count": 32,
          "metadata": {},
          "output_type": "execute_result"
        }
      ],
      "source": [
        "contextual_compression_retrieval_chain.invoke({\"question\" : \"What happened in John Wick?\"})[\"response\"].content"
      ]
    },
    {
      "cell_type": "markdown",
      "metadata": {
        "id": "OEbT0g2S-mZ4"
      },
      "source": [
        "We'll need to rely on something like Ragas to help us get a better sense of how this is performing overall - but it \"feels\" better!"
      ]
    },
    {
      "cell_type": "markdown",
      "metadata": {
        "id": "qqbghrBEQNn5"
      },
      "source": [
        "## Task 7: Multi-Query Retriever\n",
        "\n",
        "Typically in RAG we have a single query - the one provided by the user.\n",
        "\n",
        "What if we had....more than one query!\n",
        "\n",
        "In essence, a Multi-Query Retriever works by:\n",
        "\n",
        "1. Taking the original user query and creating `n` number of new user queries using an LLM.\n",
        "2. Retrieving documents for each query.\n",
        "3. Using all unique retrieved documents as context\n",
        "\n",
        "So, how is it to set-up? Not bad! Let's see it down below!\n",
        "\n"
      ]
    },
    {
      "cell_type": "code",
      "execution_count": 33,
      "metadata": {
        "id": "pfM26ReXQjzU"
      },
      "outputs": [],
      "source": [
        "from langchain.retrievers.multi_query import MultiQueryRetriever\n",
        "\n",
        "multi_query_retriever = MultiQueryRetriever.from_llm(\n",
        "    retriever=naive_retriever, llm=chat_model\n",
        ")"
      ]
    },
    {
      "cell_type": "code",
      "execution_count": 34,
      "metadata": {
        "id": "1vRc129jQ5WW"
      },
      "outputs": [],
      "source": [
        "multi_query_retrieval_chain = (\n",
        "    {\"context\": itemgetter(\"question\") | multi_query_retriever, \"question\": itemgetter(\"question\")}\n",
        "    | RunnablePassthrough.assign(context=itemgetter(\"context\"))\n",
        "    | {\"response\": rag_prompt | chat_model, \"context\": itemgetter(\"context\")}\n",
        ")"
      ]
    },
    {
      "cell_type": "code",
      "execution_count": 35,
      "metadata": {
        "colab": {
          "base_uri": "https://localhost:8080/",
          "height": 53
        },
        "id": "CGgNuOb3Q3M9",
        "outputId": "c5273ecf-da35-40b8-fbdb-0f8beab425f7"
      },
      "outputs": [
        {
          "data": {
            "text/plain": [
              "\"Based on the reviews provided, it seems that the majority of people enjoyed the John Wick movies, particularly the first one. The reviews praise the action sequences, Keanu Reeves' performance, and the overall entertainment value of the films. Therefore, it can be inferred that people generally liked John Wick.\""
            ]
          },
          "execution_count": 35,
          "metadata": {},
          "output_type": "execute_result"
        }
      ],
      "source": [
        "multi_query_retrieval_chain.invoke({\"question\" : \"Did people generally like John Wick?\"})[\"response\"].content"
      ]
    },
    {
      "cell_type": "code",
      "execution_count": 36,
      "metadata": {
        "colab": {
          "base_uri": "https://localhost:8080/",
          "height": 36
        },
        "id": "aAlSthxrRDBC",
        "outputId": "230ff807-23ae-4d25-8d11-cfdbed0b77cb"
      },
      "outputs": [
        {
          "data": {
            "text/plain": [
              "\"Yes, there is a review with a rating of 10. Here is the URL to that review: '/review/rw4854296/?ref_=tt_urv'.\""
            ]
          },
          "execution_count": 36,
          "metadata": {},
          "output_type": "execute_result"
        }
      ],
      "source": [
        "multi_query_retrieval_chain.invoke({\"question\" : \"Do any reviews have a rating of 10? If so - can I have the URLs to those reviews?\"})[\"response\"].content"
      ]
    },
    {
      "cell_type": "code",
      "execution_count": 37,
      "metadata": {
        "colab": {
          "base_uri": "https://localhost:8080/",
          "height": 88
        },
        "id": "Uv1mpCK8REs4",
        "outputId": "00fbc22a-ed9b-4613-9695-0b179e3f8369"
      },
      "outputs": [
        {
          "data": {
            "text/plain": [
              "'In John Wick, the main character, played by Keanu Reeves, is a retired assassin who comes out of retirement when someone kills his dog and steals his car. This sets off a series of events where he goes on a killing spree, embarking on a mission of vengeance and ultimately getting involved in the criminal underworld. He faces off against numerous adversaries and is tasked with killing specific targets to settle old debts and take over criminal organizations.'"
            ]
          },
          "execution_count": 37,
          "metadata": {},
          "output_type": "execute_result"
        }
      ],
      "source": [
        "multi_query_retrieval_chain.invoke({\"question\" : \"What happened in John Wick?\"})[\"response\"].content"
      ]
    },
    {
      "cell_type": "markdown",
      "metadata": {
        "id": "EDEawBf_d_3G"
      },
      "source": [
        "## Task 8: Parent Document Retriever\n",
        "\n",
        "A \"small-to-big\" strategy - the Parent Document Retriever works based on a simple strategy:\n",
        "\n",
        "1. Each un-split \"document\" will be designated as a \"parent document\" (You could use larger chunks of document as well, but our data format allows us to consider the overall document as the parent chunk)\n",
        "2. Store those \"parent documents\" in a memory store (not a VectorStore)\n",
        "3. We will chunk each of those documents into smaller documents, and associate them with their respective parents, and store those in a VectorStore. We'll call those \"child chunks\".\n",
        "4. When we query our Retriever, we will do a similarity search comparing our query vector to the \"child chunks\".\n",
        "5. Instead of returning the \"child chunks\", we'll return their associated \"parent chunks\".\n",
        "\n",
        "Okay, maybe that was a few steps - but the basic idea is this:\n",
        "\n",
        "- Search for small documents\n",
        "- Return big documents\n",
        "\n",
        "The intuition is that we're likely to find the most relevant information by limiting the amount of semantic information that is encoded in each embedding vector - but we're likely to miss relevant surrounding context if we only use that information.\n",
        "\n",
        "Let's start by creating our \"parent documents\" and defining a `RecursiveCharacterTextSplitter`."
      ]
    },
    {
      "cell_type": "code",
      "execution_count": 38,
      "metadata": {
        "id": "qJ53JJuMd_ZH"
      },
      "outputs": [],
      "source": [
        "from langchain.retrievers import ParentDocumentRetriever\n",
        "from langchain.storage import InMemoryStore\n",
        "from langchain_text_splitters import RecursiveCharacterTextSplitter\n",
        "from qdrant_client import QdrantClient, models\n",
        "\n",
        "parent_docs = documents\n",
        "child_splitter = RecursiveCharacterTextSplitter(chunk_size=200)"
      ]
    },
    {
      "cell_type": "markdown",
      "metadata": {
        "id": "oOpXfVUH3gL3"
      },
      "source": [
        "We'll need to set up a new QDrant vectorstore - and we'll use another useful pattern to do so!\n",
        "\n",
        "> NOTE: We are manually defining our embedding dimension, you'll need to change this if you're using a different embedding model."
      ]
    },
    {
      "cell_type": "code",
      "execution_count": 39,
      "metadata": {
        "colab": {
          "base_uri": "https://localhost:8080/"
        },
        "id": "rzFc-_9HlGQ-",
        "outputId": "223662dd-c36f-42f7-d1b0-b086e571484e"
      },
      "outputs": [
        {
          "name": "stderr",
          "output_type": "stream",
          "text": [
            "/tmp/ipykernel_84769/3574430551.py:8: LangChainDeprecationWarning: The class `Qdrant` was deprecated in LangChain 0.0.37 and will be removed in 1.0. An updated version of the class exists in the :class:`~langchain-qdrant package and should be used instead. To use it run `pip install -U :class:`~langchain-qdrant` and import as `from :class:`~langchain_qdrant import Qdrant``.\n",
            "  parent_document_vectorstore = Qdrant(\n"
          ]
        }
      ],
      "source": [
        "client = QdrantClient(location=\":memory:\")\n",
        "\n",
        "client.create_collection(\n",
        "    collection_name=\"full_documents\",\n",
        "    vectors_config=models.VectorParams(size=1536, distance=models.Distance.COSINE)\n",
        ")\n",
        "\n",
        "parent_document_vectorstore = Qdrant(\n",
        "    collection_name=\"full_documents\", embeddings=OpenAIEmbeddings(model=\"text-embedding-3-small\"), client=client\n",
        ")"
      ]
    },
    {
      "cell_type": "markdown",
      "metadata": {
        "id": "sf_g95FA3s6w"
      },
      "source": [
        "Now we can create our `InMemoryStore` that will hold our \"parent documents\" - and build our retriever!"
      ]
    },
    {
      "cell_type": "code",
      "execution_count": 40,
      "metadata": {
        "id": "BpWVjPf4fLUp"
      },
      "outputs": [],
      "source": [
        "store = InMemoryStore()\n",
        "\n",
        "parent_document_retriever = ParentDocumentRetriever(\n",
        "    vectorstore = parent_document_vectorstore,\n",
        "    docstore=store,\n",
        "    child_splitter=child_splitter,\n",
        ")"
      ]
    },
    {
      "cell_type": "markdown",
      "metadata": {
        "id": "KoYmSWfE32Zo"
      },
      "source": [
        "By default, this is empty as we haven't added any documents - let's add some now!"
      ]
    },
    {
      "cell_type": "code",
      "execution_count": 41,
      "metadata": {
        "id": "iQ2ZzfKigMZc"
      },
      "outputs": [],
      "source": [
        "parent_document_retriever.add_documents(parent_docs, ids=None)"
      ]
    },
    {
      "cell_type": "markdown",
      "metadata": {
        "id": "bI7Tip1335rE"
      },
      "source": [
        "We'll create the same chain we did before - but substitute our new `parent_document_retriever`."
      ]
    },
    {
      "cell_type": "code",
      "execution_count": 42,
      "metadata": {
        "id": "Qq_adt2KlSqp"
      },
      "outputs": [],
      "source": [
        "parent_document_retrieval_chain = (\n",
        "    {\"context\": itemgetter(\"question\") | parent_document_retriever, \"question\": itemgetter(\"question\")}\n",
        "    | RunnablePassthrough.assign(context=itemgetter(\"context\"))\n",
        "    | {\"response\": rag_prompt | chat_model, \"context\": itemgetter(\"context\")}\n",
        ")"
      ]
    },
    {
      "cell_type": "markdown",
      "metadata": {
        "id": "jNolUVQb4Apt"
      },
      "source": [
        "Let's give it a whirl!"
      ]
    },
    {
      "cell_type": "code",
      "execution_count": 43,
      "metadata": {
        "colab": {
          "base_uri": "https://localhost:8080/",
          "height": 70
        },
        "id": "TXB5i89Zly5W",
        "outputId": "94c240be-7c5b-4c58-9eee-56d93285a054"
      },
      "outputs": [
        {
          "data": {
            "text/plain": [
              "\"People's opinions on John Wick seem to be divided. Some reviewers like the series and find it consistent and well-received, while others criticize it for its plot and action sequences. Overall, it seems that there are mixed feelings about John Wick.\""
            ]
          },
          "execution_count": 43,
          "metadata": {},
          "output_type": "execute_result"
        }
      ],
      "source": [
        "parent_document_retrieval_chain.invoke({\"question\" : \"Did people generally like John Wick?\"})[\"response\"].content"
      ]
    },
    {
      "cell_type": "code",
      "execution_count": 44,
      "metadata": {
        "colab": {
          "base_uri": "https://localhost:8080/",
          "height": 36
        },
        "id": "V5F1T-wNl3cg",
        "outputId": "9b81e72e-5db7-4b8a-b25b-400ea0df5335"
      },
      "outputs": [
        {
          "data": {
            "text/plain": [
              "'Yes, there is a review with a rating of 10 for the movie \"John Wick 3.\" Here is the URL to that review: \\n/review/rw4854296/?ref_=tt_urv'"
            ]
          },
          "execution_count": 44,
          "metadata": {},
          "output_type": "execute_result"
        }
      ],
      "source": [
        "parent_document_retrieval_chain.invoke({\"question\" : \"Do any reviews have a rating of 10? If so - can I have the URLs to those reviews?\"})[\"response\"].content"
      ]
    },
    {
      "cell_type": "code",
      "execution_count": 45,
      "metadata": {
        "colab": {
          "base_uri": "https://localhost:8080/",
          "height": 70
        },
        "id": "ZqARszGzvGcG",
        "outputId": "8867f83c-db13-4db4-d57f-9bd51d32cd8a"
      },
      "outputs": [
        {
          "data": {
            "text/plain": [
              "\"In John Wick, Keanu Reeves plays the character of John Wick, a retired assassin who comes out of retirement after his dog is killed and his car is stolen, leading to a lot of carnage. Wick is then called on to pay off an old debt by helping Ian McShane take over the Assassin's Guild. Wick travels to Italy, Canada, and Manhattan, killing numerous assassins along the way.\""
            ]
          },
          "execution_count": 45,
          "metadata": {},
          "output_type": "execute_result"
        }
      ],
      "source": [
        "parent_document_retrieval_chain.invoke({\"question\" : \"What happened in John Wick?\"})[\"response\"].content"
      ]
    },
    {
      "cell_type": "markdown",
      "metadata": {
        "id": "B41cj42s4DPM"
      },
      "source": [
        "Overall, the performance *seems* largely the same. We can leverage a tool like [Ragas]() to more effectively answer the question about the performance."
      ]
    },
    {
      "cell_type": "markdown",
      "metadata": {
        "id": "VUrIBKl_TwS9"
      },
      "source": [
        "## Task 9: Ensemble Retriever\n",
        "\n",
        "In brief, an Ensemble Retriever simply takes 2, or more, retrievers and combines their retrieved documents based on a rank-fusion algorithm.\n",
        "\n",
        "In this case - we're using the [Reciprocal Rank Fusion](https://plg.uwaterloo.ca/~gvcormac/cormacksigir09-rrf.pdf) algorithm.\n",
        "\n",
        "Setting it up is as easy as providing a list of our desired retrievers - and the weights for each retriever."
      ]
    },
    {
      "cell_type": "code",
      "execution_count": 46,
      "metadata": {
        "id": "8j7jpZsKTxic"
      },
      "outputs": [],
      "source": [
        "from langchain.retrievers import EnsembleRetriever\n",
        "\n",
        "retriever_list = [bm25_retriever, naive_retriever, parent_document_retriever, compression_retriever, multi_query_retriever]\n",
        "equal_weighting = [1/len(retriever_list)] * len(retriever_list)\n",
        "\n",
        "ensemble_retriever = EnsembleRetriever(\n",
        "    retrievers=retriever_list, weights=equal_weighting\n",
        ")"
      ]
    },
    {
      "cell_type": "markdown",
      "metadata": {
        "id": "kpo9Psl5hhJ-"
      },
      "source": [
        "We'll pack *all* of these retrievers together in an ensemble."
      ]
    },
    {
      "cell_type": "code",
      "execution_count": 47,
      "metadata": {
        "id": "KZ__EZwpUKkd"
      },
      "outputs": [],
      "source": [
        "ensemble_retrieval_chain = (\n",
        "    {\"context\": itemgetter(\"question\") | ensemble_retriever, \"question\": itemgetter(\"question\")}\n",
        "    | RunnablePassthrough.assign(context=itemgetter(\"context\"))\n",
        "    | {\"response\": rag_prompt | chat_model, \"context\": itemgetter(\"context\")}\n",
        ")"
      ]
    },
    {
      "cell_type": "markdown",
      "metadata": {
        "id": "SSsvHpRMj24L"
      },
      "source": [
        "Let's look at our results!"
      ]
    },
    {
      "cell_type": "code",
      "execution_count": 48,
      "metadata": {
        "colab": {
          "base_uri": "https://localhost:8080/",
          "height": 70
        },
        "id": "0lMvqL88UQI-",
        "outputId": "d86dd5f7-0a13-4836-c0ce-cc4c431fd889"
      },
      "outputs": [
        {
          "data": {
            "text/plain": [
              "'Based on the reviews provided, it seems that people generally liked John Wick. The action sequences, character development, and overall entertainment value received positive feedback from reviewers, indicating that the movie was well-received by a number of individuals.'"
            ]
          },
          "execution_count": 48,
          "metadata": {},
          "output_type": "execute_result"
        }
      ],
      "source": [
        "ensemble_retrieval_chain.invoke({\"question\" : \"Did people generally like John Wick?\"})[\"response\"].content"
      ]
    },
    {
      "cell_type": "code",
      "execution_count": 49,
      "metadata": {
        "colab": {
          "base_uri": "https://localhost:8080/",
          "height": 53
        },
        "id": "MNFWLYECURI1",
        "outputId": "b17973b5-66a9-4481-97d5-880b5754b5c5"
      },
      "outputs": [
        {
          "data": {
            "text/plain": [
              "\"Yes, one review has a rating of 10. Here is the URL to that review: 'https://www.imdb.com/review/rw4854296/?ref_=tt_urv'\""
            ]
          },
          "execution_count": 49,
          "metadata": {},
          "output_type": "execute_result"
        }
      ],
      "source": [
        "ensemble_retrieval_chain.invoke({\"question\" : \"Do any reviews have a rating of 10? If so - can I have the URLs to those reviews?\"})[\"response\"].content"
      ]
    },
    {
      "cell_type": "code",
      "execution_count": 50,
      "metadata": {
        "colab": {
          "base_uri": "https://localhost:8080/",
          "height": 88
        },
        "id": "A7qbHfWgUR4c",
        "outputId": "f7373144-59ef-4fc7-b75d-ca00e7df881e"
      },
      "outputs": [
        {
          "data": {
            "text/plain": [
              "'In John Wick, an ex-hitman comes out of retirement to seek revenge on the gangsters who killed his dog and took everything from him. The story is filled with violence, action-packed shootouts, and breathtaking fights as he navigates through a world of killers and bounty-hunting assassins.'"
            ]
          },
          "execution_count": 50,
          "metadata": {},
          "output_type": "execute_result"
        }
      ],
      "source": [
        "ensemble_retrieval_chain.invoke({\"question\" : \"What happened in John Wick?\"})[\"response\"].content"
      ]
    },
    {
      "cell_type": "markdown",
      "metadata": {
        "id": "MopbkNJAXVaN"
      },
      "source": [
        "## Task 10: Semantic Chunking\n",
        "\n",
        "While this is not a retrieval method - it *is* an effective way of increasing retrieval performance on corpora that have clean semantic breaks in them.\n",
        "\n",
        "Essentially, Semantic Chunking is implemented by:\n",
        "\n",
        "1. Embedding all sentences in the corpus.\n",
        "2. Combining or splitting sequences of sentences based on their semantic similarity based on a number of [possible thresholding methods](https://python.langchain.com/docs/how_to/semantic-chunker/):\n",
        "  - `percentile`\n",
        "  - `standard_deviation`\n",
        "  - `interquartile`\n",
        "  - `gradient`\n",
        "3. Each sequence of related sentences is kept as a document!\n",
        "\n",
        "Let's see how to implement this!\n",
        "\n",
        "> NOTE: You do not need to run this cell if you're running this locally"
      ]
    },
    {
      "cell_type": "code",
      "execution_count": 51,
      "metadata": {
        "colab": {
          "base_uri": "https://localhost:8080/"
        },
        "id": "1dHeB-yGXneL",
        "outputId": "efc59105-518a-4134-9228-d98b8a97e08e"
      },
      "outputs": [],
      "source": [
        "#!pip install -qU langchain_experimental"
      ]
    },
    {
      "cell_type": "markdown",
      "metadata": {
        "id": "U9ciZbFEldv_"
      },
      "source": [
        "We'll use the `percentile` thresholding method for this example which will:\n",
        "\n",
        "Calculate all distances between sentences, and then break apart sequences of setences that exceed a given percentile among all distances."
      ]
    },
    {
      "cell_type": "code",
      "execution_count": 52,
      "metadata": {
        "id": "66EIEWiEYl5y"
      },
      "outputs": [],
      "source": [
        "from langchain_experimental.text_splitter import SemanticChunker\n",
        "\n",
        "semantic_chunker = SemanticChunker(\n",
        "    embeddings,\n",
        "    breakpoint_threshold_type=\"percentile\"\n",
        ")"
      ]
    },
    {
      "cell_type": "markdown",
      "metadata": {
        "id": "YqoKmz12mhRW"
      },
      "source": [
        "Now we can split our documents."
      ]
    },
    {
      "cell_type": "code",
      "execution_count": 53,
      "metadata": {
        "id": "ROcV7o68ZIq7"
      },
      "outputs": [],
      "source": [
        "semantic_documents = semantic_chunker.split_documents(documents)"
      ]
    },
    {
      "cell_type": "markdown",
      "metadata": {
        "id": "L8-LNC-Xmjex"
      },
      "source": [
        "Let's create a new vector store."
      ]
    },
    {
      "cell_type": "code",
      "execution_count": 54,
      "metadata": {
        "id": "h3sl9QjyZhIe"
      },
      "outputs": [],
      "source": [
        "semantic_vectorstore = Qdrant.from_documents(\n",
        "    semantic_documents,\n",
        "    embeddings,\n",
        "    location=\":memory:\",\n",
        "    collection_name=\"JohnWickSemantic\"\n",
        ")"
      ]
    },
    {
      "cell_type": "markdown",
      "metadata": {
        "id": "Eh_r_-LHmmKn"
      },
      "source": [
        "We'll use naive retrieval for this example."
      ]
    },
    {
      "cell_type": "code",
      "execution_count": 55,
      "metadata": {
        "id": "odVyDUHwZftc"
      },
      "outputs": [],
      "source": [
        "semantic_retriever = semantic_vectorstore.as_retriever(search_kwargs={\"k\" : 10})"
      ]
    },
    {
      "cell_type": "markdown",
      "metadata": {
        "id": "Mkeiv_ojmp6G"
      },
      "source": [
        "Finally we can create our classic chain!"
      ]
    },
    {
      "cell_type": "code",
      "execution_count": 56,
      "metadata": {
        "id": "xWE_0J0mZveG"
      },
      "outputs": [],
      "source": [
        "semantic_retrieval_chain = (\n",
        "    {\"context\": itemgetter(\"question\") | semantic_retriever, \"question\": itemgetter(\"question\")}\n",
        "    | RunnablePassthrough.assign(context=itemgetter(\"context\"))\n",
        "    | {\"response\": rag_prompt | chat_model, \"context\": itemgetter(\"context\")}\n",
        ")"
      ]
    },
    {
      "cell_type": "markdown",
      "metadata": {
        "id": "R5pfjLQ3ms9_"
      },
      "source": [
        "And view the results!"
      ]
    },
    {
      "cell_type": "code",
      "execution_count": 57,
      "metadata": {
        "colab": {
          "base_uri": "https://localhost:8080/",
          "height": 70
        },
        "id": "0lN2j-e4Z0SD",
        "outputId": "ef483e21-7200-4dfc-b8bf-aed4f23587b2"
      },
      "outputs": [
        {
          "data": {
            "text/plain": [
              "\"Based on the reviews provided, it seems like most people enjoyed the John Wick movies. The majority of reviews are positive, praising the action sequences, the lead actor's performance, and the overall entertainment value of the films. Therefore, it can be inferred that people generally liked John Wick.\""
            ]
          },
          "execution_count": 57,
          "metadata": {},
          "output_type": "execute_result"
        }
      ],
      "source": [
        "semantic_retrieval_chain.invoke({\"question\" : \"Did people generally like John Wick?\"})[\"response\"].content"
      ]
    },
    {
      "cell_type": "code",
      "execution_count": 58,
      "metadata": {
        "colab": {
          "base_uri": "https://localhost:8080/",
          "height": 53
        },
        "id": "xdqfBH1SZ3f9",
        "outputId": "ed62b2d1-7586-46cc-aaf4-c54192a56155"
      },
      "outputs": [
        {
          "data": {
            "text/plain": [
              "'Yes, there is a review with a rating of 10 for the movie \"John Wick 3\". Here is the URL to that review: \\'/review/rw4854296/?ref_=tt_urv\\'.'"
            ]
          },
          "execution_count": 58,
          "metadata": {},
          "output_type": "execute_result"
        }
      ],
      "source": [
        "semantic_retrieval_chain.invoke({\"question\" : \"Do any reviews have a rating of 10? If so - can I have the URLs to those reviews?\"})[\"response\"].content"
      ]
    },
    {
      "cell_type": "code",
      "execution_count": 59,
      "metadata": {
        "colab": {
          "base_uri": "https://localhost:8080/",
          "height": 70
        },
        "id": "rAcAObZnZ4o6",
        "outputId": "3f1cade3-41e4-4e42-ef71-048dd18e5e3a"
      },
      "outputs": [
        {
          "data": {
            "text/plain": [
              "'In \"John Wick\", the main character, played by Keanu Reeves, seeks revenge on the people who took something he loved from him. Specifically, his dog is killed, leading him to go on a path of vengeance against the individuals involved.'"
            ]
          },
          "execution_count": 59,
          "metadata": {},
          "output_type": "execute_result"
        }
      ],
      "source": [
        "semantic_retrieval_chain.invoke({\"question\" : \"What happened in John Wick?\"})[\"response\"].content"
      ]
    },
    {
      "cell_type": "markdown",
      "metadata": {
        "id": "xk2n3-pnVWDJ"
      },
      "source": [
        "# 🤝 Breakout Room Part #2"
      ]
    },
    {
      "cell_type": "markdown",
      "metadata": {
        "id": "2SkJLYwMVZkj"
      },
      "source": [
        "#### 🏗️ Activity #1\n",
        "\n",
        "Your task is to evaluate the various Retriever methods against eachother.\n",
        "\n",
        "You are expected to:\n",
        "\n",
        "1. Create a \"golden dataset\"\n",
        " - Use Synthetic Data Generation (powered by Ragas, or otherwise) to create this dataset\n",
        "2. Evaluate each retriever with *retriever specific* Ragas metrics\n",
        " - Semantic Chunking is not considered a retriever method and will not be required for marks, but you may find it useful to do a \"semantic chunking on\" vs. \"semantic chunking off\" comparision between them\n",
        "3. Compile these in a list and write a small paragraph about which is best for this particular data and why.\n",
        "\n",
        "Your analysis should factor in:\n",
        "  - Cost\n",
        "  - Latency\n",
        "  - Performance\n",
        "\n",
        "> NOTE: This is **NOT** required to be completed in class. Please spend time in your breakout rooms creating a plan before moving on to writing code."
      ]
    },
    {
      "cell_type": "markdown",
      "metadata": {
        "id": "TWAr16a5XMub"
      },
      "source": [
        "##### HINTS:\n",
        "\n",
        "- LangSmith provides detailed information about latency and cost."
      ]
    },
    {
      "cell_type": "code",
      "execution_count": 60,
      "metadata": {
        "id": "tgDICngKXLGK"
      },
      "outputs": [],
      "source": [
        "### YOUR CODE HERE\n",
        "##assignment 07 and 09  review"
      ]
    },
    {
      "cell_type": "code",
      "execution_count": 61,
      "metadata": {},
      "outputs": [],
      "source": [
        "os.environ[\"RAGAS_APP_TOKEN\"] = getpass.getpass(\"Please enter your Ragas API key!\")"
      ]
    },
    {
      "cell_type": "code",
      "execution_count": 62,
      "metadata": {},
      "outputs": [],
      "source": [
        "\n",
        "from uuid import uuid4\n",
        "\n",
        "os.environ[\"LANGCHAIN_TRACING_V2\"] = \"true\"\n",
        "os.environ[\"LANGCHAIN_API_KEY\"] = getpass.getpass(\"Enter your LangChain API Key:\")\n",
        "os.environ[\"LANGCHAIN_PROJECT\"] = f\"John Wick project - {uuid4().hex[0:8]}\""
      ]
    },
    {
      "cell_type": "code",
      "execution_count": 63,
      "metadata": {},
      "outputs": [],
      "source": [
        "from ragas.llms import LangchainLLMWrapper\n",
        "from ragas.embeddings import LangchainEmbeddingsWrapper\n",
        "from ragas.testset import TestsetGenerator\n",
        "\n",
        "generator_llm = LangchainLLMWrapper(ChatOpenAI(model=\"gpt-4o\"))\n",
        "generator_embeddings = LangchainEmbeddingsWrapper(OpenAIEmbeddings())"
      ]
    },
    {
      "cell_type": "code",
      "execution_count": 64,
      "metadata": {},
      "outputs": [
        {
          "data": {
            "application/vnd.jupyter.widget-view+json": {
              "model_id": "c5b6355546d44afb9f9c2399690a577a",
              "version_major": 2,
              "version_minor": 0
            },
            "text/plain": [
              "Applying SummaryExtractor:   0%|          | 0/44 [00:00<?, ?it/s]"
            ]
          },
          "metadata": {},
          "output_type": "display_data"
        },
        {
          "data": {
            "application/vnd.jupyter.widget-view+json": {
              "model_id": "641a9ab2d70b420ab753ce36c5e6e638",
              "version_major": 2,
              "version_minor": 0
            },
            "text/plain": [
              "Applying CustomNodeFilter:   0%|          | 0/100 [00:00<?, ?it/s]"
            ]
          },
          "metadata": {},
          "output_type": "display_data"
        },
        {
          "name": "stderr",
          "output_type": "stream",
          "text": [
            "Node 0113f67a-bbfa-4b7e-9f6f-5ae3c2cbd5b1 does not have a summary. Skipping filtering.\n",
            "Node 9e254ed3-2529-4311-902e-036e663dc2f7 does not have a summary. Skipping filtering.\n",
            "Node 085a51b7-894b-403f-ad99-1103590b5644 does not have a summary. Skipping filtering.\n",
            "Node 37876029-d4ab-4e16-9b19-bef77d8fcc99 does not have a summary. Skipping filtering.\n",
            "Node 08131808-e56c-4aab-8eeb-938086c95cc8 does not have a summary. Skipping filtering.\n",
            "Node e8a641f1-a26a-4664-bcfb-695d17cdab2d does not have a summary. Skipping filtering.\n",
            "Node 46442a5a-5da2-436e-a992-0dc617b2ed40 does not have a summary. Skipping filtering.\n",
            "Node 0ae51282-0fc2-4813-b497-980d1ee991ba does not have a summary. Skipping filtering.\n",
            "Node 4c7e9dbc-90c5-4a8a-9d30-7e86529a6917 does not have a summary. Skipping filtering.\n",
            "Node 1928fd15-1842-4e67-bb13-bb69be9e922e does not have a summary. Skipping filtering.\n",
            "Node 18c02067-82d2-4195-8547-8f83f1e238d2 does not have a summary. Skipping filtering.\n",
            "Node d39d9dde-d65b-40fb-a347-4b4953dd202b does not have a summary. Skipping filtering.\n",
            "Node bc91e8f5-1786-463b-add6-6d8b4fd75277 does not have a summary. Skipping filtering.\n",
            "Node bc16748a-05f9-4671-9a55-45fe60f17342 does not have a summary. Skipping filtering.\n",
            "Node c166807b-fd3a-4c11-a6a8-af349a327556 does not have a summary. Skipping filtering.\n",
            "Node d28ac03c-a49d-498b-bc51-ef27df391045 does not have a summary. Skipping filtering.\n",
            "Node e828d1d2-eac7-4cf8-910b-0a4488c69fc9 does not have a summary. Skipping filtering.\n",
            "Node 4e7aaec5-a176-4426-b648-96619dfbfb1d does not have a summary. Skipping filtering.\n",
            "Node 0114a35a-e823-41dd-92fa-6cf07b8d8b72 does not have a summary. Skipping filtering.\n",
            "Node f67b27c5-e894-4f13-9574-f356ea85e5f4 does not have a summary. Skipping filtering.\n",
            "Node dc7c036b-4e61-4b9e-9afe-30c1e688dc72 does not have a summary. Skipping filtering.\n",
            "Node d6806e15-2b8b-4981-9e3c-820c659e2b77 does not have a summary. Skipping filtering.\n",
            "Node 1734702d-c653-4956-942d-8ca8e711d2cd does not have a summary. Skipping filtering.\n",
            "Node baaa752e-709f-4b41-822a-aa74887f532b does not have a summary. Skipping filtering.\n",
            "Node 21724c85-cec4-4473-bcbb-710d176593bd does not have a summary. Skipping filtering.\n",
            "Node d96685d2-b25c-4b07-997b-e5289eeb2efb does not have a summary. Skipping filtering.\n",
            "Node 4bdab496-1ca0-46be-a1ac-6a93b86f9434 does not have a summary. Skipping filtering.\n",
            "Node a5d0e69b-1d87-4dd3-9f89-f3215ab8d72c does not have a summary. Skipping filtering.\n",
            "Node e8019f91-15bd-4ffc-b29b-866e20db276e does not have a summary. Skipping filtering.\n",
            "Node 79cdbed0-e9a4-4e05-b617-fa426df041ea does not have a summary. Skipping filtering.\n",
            "Node 910983ac-535e-41fa-a13d-acbaf18dfd1b does not have a summary. Skipping filtering.\n",
            "Node 3b06c6d0-a848-4e0f-8ee4-de31e6a2c0ea does not have a summary. Skipping filtering.\n",
            "Node ef18c4f4-4093-42c5-9ce4-55e7b4c314c2 does not have a summary. Skipping filtering.\n",
            "Node e4c26d8f-e6fe-4b2b-abd1-e01ca9eab15a does not have a summary. Skipping filtering.\n",
            "Node a362d129-812e-4227-8e37-76b8765320b2 does not have a summary. Skipping filtering.\n",
            "Node fe4e12e2-82a3-458f-a9a5-35afebd97af6 does not have a summary. Skipping filtering.\n",
            "Node dff50637-d93d-4fb8-a4ad-ab9652f4a2e9 does not have a summary. Skipping filtering.\n",
            "Node 4add3ec3-a5be-4ead-8416-d720a83bf629 does not have a summary. Skipping filtering.\n",
            "Node feae5a7e-9e9e-4157-8e2c-0b97e2be270e does not have a summary. Skipping filtering.\n",
            "Node efcbfad0-cdc3-45f2-a189-f57a605efa0c does not have a summary. Skipping filtering.\n",
            "Node 80454c2c-e195-43bd-9cea-cbfcdc94bad9 does not have a summary. Skipping filtering.\n",
            "Node a85464ac-ce64-442d-86e5-743b230dbe16 does not have a summary. Skipping filtering.\n",
            "Node 35d72616-b12f-4966-8440-b02190aa7148 does not have a summary. Skipping filtering.\n",
            "Node 0a76982b-20af-4177-a4f5-f1ffbf833d1d does not have a summary. Skipping filtering.\n",
            "Node 92a96fb0-824e-4e09-b403-e6e09d6a79b0 does not have a summary. Skipping filtering.\n",
            "Node ef95e5e2-54e1-4fdf-91c6-3e0990f724ec does not have a summary. Skipping filtering.\n",
            "Node f83d6177-3a25-442e-adb5-2fbfa2c6058f does not have a summary. Skipping filtering.\n",
            "Node ff840f2d-2825-4a62-999a-3035f58d365e does not have a summary. Skipping filtering.\n",
            "Node f1b62726-fe46-437e-b678-81ff10517959 does not have a summary. Skipping filtering.\n",
            "Node d1b3ce1e-9273-4d63-ab94-d81f9a3d3b4b does not have a summary. Skipping filtering.\n",
            "Node 29b73782-29c8-43a7-86f6-97cbca32bb05 does not have a summary. Skipping filtering.\n",
            "Node ee5aa0f4-3b7f-4f8e-af80-dd2024404431 does not have a summary. Skipping filtering.\n",
            "Node 7c6c440f-22c2-48bb-be0a-00e0b84f2b6f does not have a summary. Skipping filtering.\n",
            "Node b8e81820-6024-4a36-8c0f-4e684126aea3 does not have a summary. Skipping filtering.\n",
            "Node 1a061f75-1caa-4f21-9cee-a3d06bc84a93 does not have a summary. Skipping filtering.\n",
            "Node e97e0a72-35a5-4f85-b24c-c5fd4a60aa4c does not have a summary. Skipping filtering.\n"
          ]
        },
        {
          "data": {
            "application/vnd.jupyter.widget-view+json": {
              "model_id": "8063458273f44251beeaeb2e85fd430f",
              "version_major": 2,
              "version_minor": 0
            },
            "text/plain": [
              "Applying [EmbeddingExtractor, ThemesExtractor, NERExtractor]:   0%|          | 0/244 [00:00<?, ?it/s]"
            ]
          },
          "metadata": {},
          "output_type": "display_data"
        },
        {
          "data": {
            "application/vnd.jupyter.widget-view+json": {
              "model_id": "dc06d6d90ae440889d9974e7403d6e4d",
              "version_major": 2,
              "version_minor": 0
            },
            "text/plain": [
              "Applying OverlapScoreBuilder:   0%|          | 0/1 [00:00<?, ?it/s]"
            ]
          },
          "metadata": {},
          "output_type": "display_data"
        },
        {
          "data": {
            "application/vnd.jupyter.widget-view+json": {
              "model_id": "b89f671dc0d14d1f88259f49d3da4e86",
              "version_major": 2,
              "version_minor": 0
            },
            "text/plain": [
              "Generating personas:   0%|          | 0/3 [00:00<?, ?it/s]"
            ]
          },
          "metadata": {},
          "output_type": "display_data"
        },
        {
          "data": {
            "application/vnd.jupyter.widget-view+json": {
              "model_id": "241b3b754348467bb1667961f0721023",
              "version_major": 2,
              "version_minor": 0
            },
            "text/plain": [
              "Generating Scenarios:   0%|          | 0/2 [00:00<?, ?it/s]"
            ]
          },
          "metadata": {},
          "output_type": "display_data"
        },
        {
          "data": {
            "application/vnd.jupyter.widget-view+json": {
              "model_id": "64de03af68dd4cfdb65f3a6c902b7f66",
              "version_major": 2,
              "version_minor": 0
            },
            "text/plain": [
              "Generating Samples:   0%|          | 0/10 [00:00<?, ?it/s]"
            ]
          },
          "metadata": {},
          "output_type": "display_data"
        }
      ],
      "source": [
        "generator = TestsetGenerator(llm=generator_llm, embedding_model=generator_embeddings)\n",
        "dataset = generator.generate_with_langchain_docs(documents, testset_size=10)"
      ]
    },
    {
      "cell_type": "code",
      "execution_count": 65,
      "metadata": {},
      "outputs": [
        {
          "data": {
            "text/html": [
              "<div>\n",
              "<style scoped>\n",
              "    .dataframe tbody tr th:only-of-type {\n",
              "        vertical-align: middle;\n",
              "    }\n",
              "\n",
              "    .dataframe tbody tr th {\n",
              "        vertical-align: top;\n",
              "    }\n",
              "\n",
              "    .dataframe thead th {\n",
              "        text-align: right;\n",
              "    }\n",
              "</style>\n",
              "<table border=\"1\" class=\"dataframe\">\n",
              "  <thead>\n",
              "    <tr style=\"text-align: right;\">\n",
              "      <th></th>\n",
              "      <th>user_input</th>\n",
              "      <th>reference_contexts</th>\n",
              "      <th>reference</th>\n",
              "      <th>synthesizer_name</th>\n",
              "    </tr>\n",
              "  </thead>\n",
              "  <tbody>\n",
              "    <tr>\n",
              "      <th>0</th>\n",
              "      <td>What Keanu Reeves do in John Wick?</td>\n",
              "      <td>[: 0\\nReview: The best way I can describe John...</td>\n",
              "      <td>In John Wick, Keanu Reeves plays the role of J...</td>\n",
              "      <td>single_hop_specifc_query_synthesizer</td>\n",
              "    </tr>\n",
              "    <tr>\n",
              "      <th>1</th>\n",
              "      <td>Why everyone like John Wick movies so much?</td>\n",
              "      <td>[: 2\\nReview: With the fourth installment scor...</td>\n",
              "      <td>The fourth installment of John Wick is scoring...</td>\n",
              "      <td>single_hop_specifc_query_synthesizer</td>\n",
              "    </tr>\n",
              "    <tr>\n",
              "      <th>2</th>\n",
              "      <td>Why John Wick movie so special even if story s...</td>\n",
              "      <td>[: 3\\nReview: John wick has a very simple reve...</td>\n",
              "      <td>John Wick is special because, despite its simp...</td>\n",
              "      <td>single_hop_specifc_query_synthesizer</td>\n",
              "    </tr>\n",
              "    <tr>\n",
              "      <th>3</th>\n",
              "      <td>Howw does Reeves perform in the moviee John Wick?</td>\n",
              "      <td>[: 4\\nReview: Though he no longer has a taste ...</td>\n",
              "      <td>Savvy, indestructible Reeves looks right at ho...</td>\n",
              "      <td>single_hop_specifc_query_synthesizer</td>\n",
              "    </tr>\n",
              "    <tr>\n",
              "      <th>4</th>\n",
              "      <td>What motivates John Wick to come out of retire...</td>\n",
              "      <td>[: 5\\nReview: Ultra-violent first entry with l...</td>\n",
              "      <td>In the original John Wick (2014), the ex-hit-m...</td>\n",
              "      <td>single_hop_specifc_query_synthesizer</td>\n",
              "    </tr>\n",
              "    <tr>\n",
              "      <th>5</th>\n",
              "      <td>What John Wick: Chapter 3 - Parabellum about a...</td>\n",
              "      <td>[&lt;1-hop&gt;\\n\\n: 24\\nReview: John Wick: Chapter 3...</td>\n",
              "      <td>John Wick: Chapter 3 - Parabellum is about the...</td>\n",
              "      <td>multi_hop_specific_query_synthesizer</td>\n",
              "    </tr>\n",
              "    <tr>\n",
              "      <th>6</th>\n",
              "      <td>How does the cinematic execution of JOHN WICK ...</td>\n",
              "      <td>[&lt;1-hop&gt;\\n\\n: 16\\nReview: Ok, so I got back fr...</td>\n",
              "      <td>JOHN WICK is praised for its relentless, pulse...</td>\n",
              "      <td>multi_hop_specific_query_synthesizer</td>\n",
              "    </tr>\n",
              "    <tr>\n",
              "      <th>7</th>\n",
              "      <td>What are the key elements that make Keanu Reev...</td>\n",
              "      <td>[&lt;1-hop&gt;\\n\\n: 10\\nReview: Wow what a great sur...</td>\n",
              "      <td>Keanu Reeves' portrayal of John Wick stands ou...</td>\n",
              "      <td>multi_hop_specific_query_synthesizer</td>\n",
              "    </tr>\n",
              "    <tr>\n",
              "      <th>8</th>\n",
              "      <td>Why Parabellum not exciting even with John Wic...</td>\n",
              "      <td>[&lt;1-hop&gt;\\n\\n: 2\\nReview: The first three John ...</td>\n",
              "      <td>Parabellum is not exciting because, despite Jo...</td>\n",
              "      <td>multi_hop_specific_query_synthesizer</td>\n",
              "    </tr>\n",
              "    <tr>\n",
              "      <th>9</th>\n",
              "      <td>How has the John Wick franchise set a new stan...</td>\n",
              "      <td>[&lt;1-hop&gt;\\n\\n: 18\\nReview: Ever since the origi...</td>\n",
              "      <td>The John Wick franchise, particularly since th...</td>\n",
              "      <td>multi_hop_specific_query_synthesizer</td>\n",
              "    </tr>\n",
              "  </tbody>\n",
              "</table>\n",
              "</div>"
            ],
            "text/plain": [
              "                                          user_input  \\\n",
              "0                 What Keanu Reeves do in John Wick?   \n",
              "1        Why everyone like John Wick movies so much?   \n",
              "2  Why John Wick movie so special even if story s...   \n",
              "3  Howw does Reeves perform in the moviee John Wick?   \n",
              "4  What motivates John Wick to come out of retire...   \n",
              "5  What John Wick: Chapter 3 - Parabellum about a...   \n",
              "6  How does the cinematic execution of JOHN WICK ...   \n",
              "7  What are the key elements that make Keanu Reev...   \n",
              "8  Why Parabellum not exciting even with John Wic...   \n",
              "9  How has the John Wick franchise set a new stan...   \n",
              "\n",
              "                                  reference_contexts  \\\n",
              "0  [: 0\\nReview: The best way I can describe John...   \n",
              "1  [: 2\\nReview: With the fourth installment scor...   \n",
              "2  [: 3\\nReview: John wick has a very simple reve...   \n",
              "3  [: 4\\nReview: Though he no longer has a taste ...   \n",
              "4  [: 5\\nReview: Ultra-violent first entry with l...   \n",
              "5  [<1-hop>\\n\\n: 24\\nReview: John Wick: Chapter 3...   \n",
              "6  [<1-hop>\\n\\n: 16\\nReview: Ok, so I got back fr...   \n",
              "7  [<1-hop>\\n\\n: 10\\nReview: Wow what a great sur...   \n",
              "8  [<1-hop>\\n\\n: 2\\nReview: The first three John ...   \n",
              "9  [<1-hop>\\n\\n: 18\\nReview: Ever since the origi...   \n",
              "\n",
              "                                           reference  \\\n",
              "0  In John Wick, Keanu Reeves plays the role of J...   \n",
              "1  The fourth installment of John Wick is scoring...   \n",
              "2  John Wick is special because, despite its simp...   \n",
              "3  Savvy, indestructible Reeves looks right at ho...   \n",
              "4  In the original John Wick (2014), the ex-hit-m...   \n",
              "5  John Wick: Chapter 3 - Parabellum is about the...   \n",
              "6  JOHN WICK is praised for its relentless, pulse...   \n",
              "7  Keanu Reeves' portrayal of John Wick stands ou...   \n",
              "8  Parabellum is not exciting because, despite Jo...   \n",
              "9  The John Wick franchise, particularly since th...   \n",
              "\n",
              "                       synthesizer_name  \n",
              "0  single_hop_specifc_query_synthesizer  \n",
              "1  single_hop_specifc_query_synthesizer  \n",
              "2  single_hop_specifc_query_synthesizer  \n",
              "3  single_hop_specifc_query_synthesizer  \n",
              "4  single_hop_specifc_query_synthesizer  \n",
              "5  multi_hop_specific_query_synthesizer  \n",
              "6  multi_hop_specific_query_synthesizer  \n",
              "7  multi_hop_specific_query_synthesizer  \n",
              "8  multi_hop_specific_query_synthesizer  \n",
              "9  multi_hop_specific_query_synthesizer  "
            ]
          },
          "execution_count": 65,
          "metadata": {},
          "output_type": "execute_result"
        }
      ],
      "source": [
        "dataset.to_pandas()"
      ]
    },
    {
      "cell_type": "code",
      "execution_count": 69,
      "metadata": {},
      "outputs": [],
      "source": [
        "from ragas.llms import LangchainLLMWrapper\n",
        "\n",
        "evaluator_llm = LangchainLLMWrapper(ChatOpenAI(model=\"gpt-4o\"))"
      ]
    },
    {
      "cell_type": "code",
      "execution_count": 105,
      "metadata": {},
      "outputs": [],
      "source": [
        "#Setup langsmith dataset\n",
        "\n",
        "from langsmith import Client\n",
        "\n",
        "langsmith_client = Client()\n",
        "naive_dataset_name = \"John Wick dataset\"\n",
        "\n",
        "langsmith_dataset = langsmith_client.create_dataset(\n",
        "    dataset_name=naive_dataset_name,\n",
        "    description=\"John Wick dataset\"\n",
        ")"
      ]
    },
    {
      "cell_type": "code",
      "execution_count": 106,
      "metadata": {},
      "outputs": [],
      "source": [
        "#load data into langsmith dataset\n",
        "\n",
        "for data_row in dataset.to_pandas().iterrows():\n",
        "  langsmith_client.create_example(\n",
        "      inputs={\n",
        "          \"question\": data_row[1][\"user_input\"]\n",
        "      },\n",
        "      outputs={\n",
        "          \"answer\": data_row[1][\"reference\"]\n",
        "      },\n",
        "      metadata={\n",
        "          \"context\": data_row[1][\"reference_contexts\"]\n",
        "      },\n",
        "      dataset_id=langsmith_dataset.id\n",
        "  )"
      ]
    },
    {
      "cell_type": "code",
      "execution_count": null,
      "metadata": {},
      "outputs": [],
      "source": [
        "#Setup qa evaluator\n",
        "\n",
        "from langsmith.evaluation import LangChainStringEvaluator, evaluate\n",
        "from langchain.chat_models import ChatOpenAI\n",
        "\n",
        "def prepare_data(run, example):\n",
        "    return {\n",
        "        \"prediction\": run.outputs.get(\"result\", \"\"),\n",
        "        \"reference\": example.outputs.get(\"answer\", \"\"),\n",
        "        \"input\": example.inputs.get(\"query\", \"\"),\n",
        "    }\n",
        "\n",
        "qa_evaluator = LangChainStringEvaluator(\"qa\", config={\"llm\": evaluator_llm}, prepare_data=prepare_data)\n"
      ]
    },
    {
      "cell_type": "code",
      "execution_count": 107,
      "metadata": {},
      "outputs": [
        {
          "name": "stdout",
          "output_type": "stream",
          "text": [
            "View the evaluation results for experiment: 'naive_retrieval_chain_init-02fcab48' at:\n",
            "https://smith.langchain.com/o/239bc38e-a472-4022-97f0-84cd498894d1/datasets/d994ba33-4c35-4de2-9861-3e23dee794dc/compare?selectedSessions=8a3ccf8a-a125-46a9-b80b-0939dcd6be66\n",
            "\n",
            "\n"
          ]
        },
        {
          "data": {
            "application/vnd.jupyter.widget-view+json": {
              "model_id": "be8f81884abc47fb950b6a1e541fb455",
              "version_major": 2,
              "version_minor": 0
            },
            "text/plain": [
              "0it [00:00, ?it/s]"
            ]
          },
          "metadata": {},
          "output_type": "display_data"
        },
        {
          "data": {
            "text/html": [
              "<div>\n",
              "<style scoped>\n",
              "    .dataframe tbody tr th:only-of-type {\n",
              "        vertical-align: middle;\n",
              "    }\n",
              "\n",
              "    .dataframe tbody tr th {\n",
              "        vertical-align: top;\n",
              "    }\n",
              "\n",
              "    .dataframe thead th {\n",
              "        text-align: right;\n",
              "    }\n",
              "</style>\n",
              "<table border=\"1\" class=\"dataframe\">\n",
              "  <thead>\n",
              "    <tr style=\"text-align: right;\">\n",
              "      <th></th>\n",
              "      <th>inputs.question</th>\n",
              "      <th>outputs.response</th>\n",
              "      <th>outputs.context</th>\n",
              "      <th>error</th>\n",
              "      <th>reference.answer</th>\n",
              "      <th>feedback.correctness</th>\n",
              "      <th>execution_time</th>\n",
              "      <th>example_id</th>\n",
              "      <th>id</th>\n",
              "    </tr>\n",
              "  </thead>\n",
              "  <tbody>\n",
              "    <tr>\n",
              "      <th>0</th>\n",
              "      <td>How has the John Wick franchise set a new stan...</td>\n",
              "      <td>content='The John Wick franchise has set a new...</td>\n",
              "      <td>[page_content=': 11\\nReview: JOHN WICK is a ra...</td>\n",
              "      <td>None</td>\n",
              "      <td>The John Wick franchise, particularly since th...</td>\n",
              "      <td>0.0</td>\n",
              "      <td>4.295606</td>\n",
              "      <td>b30d8102-1243-4c37-a164-dba5925d89af</td>\n",
              "      <td>14847194-abfe-4f62-be17-b87316ec0f05</td>\n",
              "    </tr>\n",
              "    <tr>\n",
              "      <th>1</th>\n",
              "      <td>Why Parabellum not exciting even with John Wic...</td>\n",
              "      <td>content='In the movie \"John Wick 3: Parabellum...</td>\n",
              "      <td>[page_content=': 6\\nReview: Assassin John Wick...</td>\n",
              "      <td>None</td>\n",
              "      <td>Parabellum is not exciting because, despite Jo...</td>\n",
              "      <td>0.0</td>\n",
              "      <td>1.358216</td>\n",
              "      <td>a159c9f7-759e-47c4-8abf-58ef1f4668b4</td>\n",
              "      <td>bc914af1-9b3d-4bed-8494-84930c740f86</td>\n",
              "    </tr>\n",
              "    <tr>\n",
              "      <th>2</th>\n",
              "      <td>What are the key elements that make Keanu Reev...</td>\n",
              "      <td>content=\"Keanu Reeves' portrayal of John Wick ...</td>\n",
              "      <td>[page_content=': 9\\nReview: At first glance, J...</td>\n",
              "      <td>None</td>\n",
              "      <td>Keanu Reeves' portrayal of John Wick stands ou...</td>\n",
              "      <td>1.0</td>\n",
              "      <td>1.704178</td>\n",
              "      <td>645522d1-3671-4f9c-9062-c02314f3114b</td>\n",
              "      <td>64e08567-8b26-4bd7-886a-1a6581d33975</td>\n",
              "    </tr>\n",
              "    <tr>\n",
              "      <th>3</th>\n",
              "      <td>How does the cinematic execution of JOHN WICK ...</td>\n",
              "      <td>content=\"I'm sorry, but I don't have the speci...</td>\n",
              "      <td>[page_content=': 0\\nReview: It is 5 years sinc...</td>\n",
              "      <td>None</td>\n",
              "      <td>JOHN WICK is praised for its relentless, pulse...</td>\n",
              "      <td>0.0</td>\n",
              "      <td>1.415762</td>\n",
              "      <td>6157bd4a-fc86-4b44-b8d1-103187a02d50</td>\n",
              "      <td>0067ab3e-0e6f-4f5a-853a-c9b8a24b7855</td>\n",
              "    </tr>\n",
              "    <tr>\n",
              "      <th>4</th>\n",
              "      <td>What John Wick: Chapter 3 - Parabellum about a...</td>\n",
              "      <td>content=\"I don't know.\" additional_kwargs={'re...</td>\n",
              "      <td>[page_content=': 0\\nReview: It is 5 years sinc...</td>\n",
              "      <td>None</td>\n",
              "      <td>John Wick: Chapter 3 - Parabellum is about the...</td>\n",
              "      <td>1.0</td>\n",
              "      <td>0.682761</td>\n",
              "      <td>c98f1e6f-dee8-4775-a602-6ec7631bf964</td>\n",
              "      <td>822c5e29-d2a4-4340-8581-6204b454c37d</td>\n",
              "    </tr>\n",
              "    <tr>\n",
              "      <th>5</th>\n",
              "      <td>What motivates John Wick to come out of retire...</td>\n",
              "      <td>content='John Wick comes out of retirement in ...</td>\n",
              "      <td>[page_content=': 5\\nReview: Ultra-violent firs...</td>\n",
              "      <td>None</td>\n",
              "      <td>In the original John Wick (2014), the ex-hit-m...</td>\n",
              "      <td>0.0</td>\n",
              "      <td>2.351836</td>\n",
              "      <td>e74e6cbd-431f-4e3f-97e0-b8a3d05249b8</td>\n",
              "      <td>ae53b4bf-7cad-4243-afa1-993360e5a9f3</td>\n",
              "    </tr>\n",
              "    <tr>\n",
              "      <th>6</th>\n",
              "      <td>Howw does Reeves perform in the moviee John Wick?</td>\n",
              "      <td>content='Reeves performs exceptionally well in...</td>\n",
              "      <td>[page_content=': 9\\nReview: At first glance, J...</td>\n",
              "      <td>None</td>\n",
              "      <td>Savvy, indestructible Reeves looks right at ho...</td>\n",
              "      <td>0.0</td>\n",
              "      <td>1.592109</td>\n",
              "      <td>ccd67b28-5964-44ae-aa03-3645db7a25d3</td>\n",
              "      <td>9be43d30-f071-41e9-97d7-11206657fc59</td>\n",
              "    </tr>\n",
              "    <tr>\n",
              "      <th>7</th>\n",
              "      <td>Why John Wick movie so special even if story s...</td>\n",
              "      <td>content=\"The John Wick movie is special becaus...</td>\n",
              "      <td>[page_content=': 3\\nReview: John wick has a ve...</td>\n",
              "      <td>None</td>\n",
              "      <td>John Wick is special because, despite its simp...</td>\n",
              "      <td>0.0</td>\n",
              "      <td>0.830751</td>\n",
              "      <td>9cb4cf94-ec69-461e-b6b2-fe6718a870a4</td>\n",
              "      <td>445cee33-5798-474e-8e1b-6a60996f155f</td>\n",
              "    </tr>\n",
              "    <tr>\n",
              "      <th>8</th>\n",
              "      <td>Why everyone like John Wick movies so much?</td>\n",
              "      <td>content='The John Wick movies are loved by man...</td>\n",
              "      <td>[page_content=': 20\\nReview: John Wick is some...</td>\n",
              "      <td>None</td>\n",
              "      <td>The fourth installment of John Wick is scoring...</td>\n",
              "      <td>0.0</td>\n",
              "      <td>1.752694</td>\n",
              "      <td>e4fcad63-a7c8-40be-b603-1c2b2c21759a</td>\n",
              "      <td>07b8a907-02ed-4ef0-a579-3c7ba4c763e8</td>\n",
              "    </tr>\n",
              "    <tr>\n",
              "      <th>9</th>\n",
              "      <td>What Keanu Reeves do in John Wick?</td>\n",
              "      <td>content=\"In John Wick, Keanu Reeves plays the ...</td>\n",
              "      <td>[page_content=': 19\\nReview: If you've seen th...</td>\n",
              "      <td>None</td>\n",
              "      <td>In John Wick, Keanu Reeves plays the role of J...</td>\n",
              "      <td>NaN</td>\n",
              "      <td>1.191570</td>\n",
              "      <td>51bee111-6296-4de0-b02b-29222e27be93</td>\n",
              "      <td>44a9ff8b-1743-48be-acdc-f8a07f69bd5e</td>\n",
              "    </tr>\n",
              "  </tbody>\n",
              "</table>\n",
              "</div>"
            ],
            "text/plain": [
              "<ExperimentResults naive_retrieval_chain_init-02fcab48>"
            ]
          },
          "execution_count": 107,
          "metadata": {},
          "output_type": "execute_result"
        }
      ],
      "source": [
        "#evaluate naive retrieval chain in langsmith\n",
        "evaluate(\n",
        "    naive_retrieval_chain.invoke,\n",
        "    data=langsmith_dataset,\n",
        "    evaluators=[qa_evaluator],\n",
        "    metadata={\"revision_id\": \"naive_retrieval_chain\"},\n",
        "    experiment_prefix=\"naive_retrieval_chain_init\"  \n",
        ")"
      ]
    },
    {
      "cell_type": "code",
      "execution_count": 108,
      "metadata": {},
      "outputs": [
        {
          "name": "stdout",
          "output_type": "stream",
          "text": [
            "View the evaluation results for experiment: 'bm25_retrieval_chain_init-3132c0f7' at:\n",
            "https://smith.langchain.com/o/239bc38e-a472-4022-97f0-84cd498894d1/datasets/d994ba33-4c35-4de2-9861-3e23dee794dc/compare?selectedSessions=3de60d79-e1fa-4962-a200-1e4c08f15303\n",
            "\n",
            "\n"
          ]
        },
        {
          "data": {
            "application/vnd.jupyter.widget-view+json": {
              "model_id": "3ea9f75f55b84b6789d9e7a17ca3eb9c",
              "version_major": 2,
              "version_minor": 0
            },
            "text/plain": [
              "0it [00:00, ?it/s]"
            ]
          },
          "metadata": {},
          "output_type": "display_data"
        },
        {
          "data": {
            "text/html": [
              "<div>\n",
              "<style scoped>\n",
              "    .dataframe tbody tr th:only-of-type {\n",
              "        vertical-align: middle;\n",
              "    }\n",
              "\n",
              "    .dataframe tbody tr th {\n",
              "        vertical-align: top;\n",
              "    }\n",
              "\n",
              "    .dataframe thead th {\n",
              "        text-align: right;\n",
              "    }\n",
              "</style>\n",
              "<table border=\"1\" class=\"dataframe\">\n",
              "  <thead>\n",
              "    <tr style=\"text-align: right;\">\n",
              "      <th></th>\n",
              "      <th>inputs.question</th>\n",
              "      <th>outputs.response</th>\n",
              "      <th>outputs.context</th>\n",
              "      <th>error</th>\n",
              "      <th>reference.answer</th>\n",
              "      <th>feedback.correctness</th>\n",
              "      <th>execution_time</th>\n",
              "      <th>example_id</th>\n",
              "      <th>id</th>\n",
              "    </tr>\n",
              "  </thead>\n",
              "  <tbody>\n",
              "    <tr>\n",
              "      <th>0</th>\n",
              "      <td>How has the John Wick franchise set a new stan...</td>\n",
              "      <td>content='The John Wick franchise has set a new...</td>\n",
              "      <td>[page_content=': 18\\nReview: Ever since the or...</td>\n",
              "      <td>None</td>\n",
              "      <td>The John Wick franchise, particularly since th...</td>\n",
              "      <td>0.0</td>\n",
              "      <td>1.125163</td>\n",
              "      <td>b30d8102-1243-4c37-a164-dba5925d89af</td>\n",
              "      <td>2acaa36d-869f-4529-8b99-7cfb02def543</td>\n",
              "    </tr>\n",
              "    <tr>\n",
              "      <th>1</th>\n",
              "      <td>Why Parabellum not exciting even with John Wic...</td>\n",
              "      <td>content='The reviewer mentioned that the lack ...</td>\n",
              "      <td>[page_content=': 6\\nReview: Assassin John Wick...</td>\n",
              "      <td>None</td>\n",
              "      <td>Parabellum is not exciting because, despite Jo...</td>\n",
              "      <td>0.0</td>\n",
              "      <td>0.666182</td>\n",
              "      <td>a159c9f7-759e-47c4-8abf-58ef1f4668b4</td>\n",
              "      <td>528bd3d1-c7fa-4b43-94ec-ff19e52a3b85</td>\n",
              "    </tr>\n",
              "    <tr>\n",
              "      <th>2</th>\n",
              "      <td>What are the key elements that make Keanu Reev...</td>\n",
              "      <td>content=\"Keanu Reeves' portrayal of John Wick ...</td>\n",
              "      <td>[page_content=': 7\\nReview: John Wick (2014) i...</td>\n",
              "      <td>None</td>\n",
              "      <td>Keanu Reeves' portrayal of John Wick stands ou...</td>\n",
              "      <td>1.0</td>\n",
              "      <td>1.585393</td>\n",
              "      <td>645522d1-3671-4f9c-9062-c02314f3114b</td>\n",
              "      <td>415b3895-25d8-438c-8206-eb4e6c7ecc7f</td>\n",
              "    </tr>\n",
              "    <tr>\n",
              "      <th>3</th>\n",
              "      <td>How does the cinematic execution of JOHN WICK ...</td>\n",
              "      <td>content=\"I don't know the specific details of ...</td>\n",
              "      <td>[page_content=': 16\\nReview: Ok, so I got back...</td>\n",
              "      <td>None</td>\n",
              "      <td>JOHN WICK is praised for its relentless, pulse...</td>\n",
              "      <td>0.0</td>\n",
              "      <td>0.732518</td>\n",
              "      <td>6157bd4a-fc86-4b44-b8d1-103187a02d50</td>\n",
              "      <td>d8f1660d-3382-443d-b380-037b410b5388</td>\n",
              "    </tr>\n",
              "    <tr>\n",
              "      <th>4</th>\n",
              "      <td>What John Wick: Chapter 3 - Parabellum about a...</td>\n",
              "      <td>content=\"John Wick: Chapter 3 - Parabellum is ...</td>\n",
              "      <td>[page_content=': 24\\nReview: John Wick: Chapte...</td>\n",
              "      <td>None</td>\n",
              "      <td>John Wick: Chapter 3 - Parabellum is about the...</td>\n",
              "      <td>1.0</td>\n",
              "      <td>0.911650</td>\n",
              "      <td>c98f1e6f-dee8-4775-a602-6ec7631bf964</td>\n",
              "      <td>d0690c2c-7bd0-409f-9f2e-0225e8b38034</td>\n",
              "    </tr>\n",
              "    <tr>\n",
              "      <th>5</th>\n",
              "      <td>What motivates John Wick to come out of retire...</td>\n",
              "      <td>content=\"John Wick comes out of retirement in ...</td>\n",
              "      <td>[page_content=': 5\\nReview: Ultra-violent firs...</td>\n",
              "      <td>None</td>\n",
              "      <td>In the original John Wick (2014), the ex-hit-m...</td>\n",
              "      <td>1.0</td>\n",
              "      <td>0.552351</td>\n",
              "      <td>e74e6cbd-431f-4e3f-97e0-b8a3d05249b8</td>\n",
              "      <td>bf60a7fe-4788-4e4d-96e0-70884f6f43ef</td>\n",
              "    </tr>\n",
              "    <tr>\n",
              "      <th>6</th>\n",
              "      <td>Howw does Reeves perform in the moviee John Wick?</td>\n",
              "      <td>content='Reeves performs exceptionally well in...</td>\n",
              "      <td>[page_content=': 19\\nReview: John Wick: Chapte...</td>\n",
              "      <td>None</td>\n",
              "      <td>Savvy, indestructible Reeves looks right at ho...</td>\n",
              "      <td>0.0</td>\n",
              "      <td>0.532980</td>\n",
              "      <td>ccd67b28-5964-44ae-aa03-3645db7a25d3</td>\n",
              "      <td>b5e9a282-6c83-4bb6-a6ff-7d8c33f1a7c8</td>\n",
              "    </tr>\n",
              "    <tr>\n",
              "      <th>7</th>\n",
              "      <td>Why John Wick movie so special even if story s...</td>\n",
              "      <td>content='John Wick movies are special because ...</td>\n",
              "      <td>[page_content=': 22\\nReview: Lets contemplate ...</td>\n",
              "      <td>None</td>\n",
              "      <td>John Wick is special because, despite its simp...</td>\n",
              "      <td>0.0</td>\n",
              "      <td>0.710900</td>\n",
              "      <td>9cb4cf94-ec69-461e-b6b2-fe6718a870a4</td>\n",
              "      <td>04b7487c-1f32-42e7-b61d-9f72bed0119b</td>\n",
              "    </tr>\n",
              "    <tr>\n",
              "      <th>8</th>\n",
              "      <td>Why everyone like John Wick movies so much?</td>\n",
              "      <td>content='People like John Wick movies so much ...</td>\n",
              "      <td>[page_content=': 16\\nReview: John Wick 3 is wi...</td>\n",
              "      <td>None</td>\n",
              "      <td>The fourth installment of John Wick is scoring...</td>\n",
              "      <td>0.0</td>\n",
              "      <td>0.836647</td>\n",
              "      <td>e4fcad63-a7c8-40be-b603-1c2b2c21759a</td>\n",
              "      <td>964e3172-90ed-4c5c-a97e-4419dc7dc24b</td>\n",
              "    </tr>\n",
              "    <tr>\n",
              "      <th>9</th>\n",
              "      <td>What Keanu Reeves do in John Wick?</td>\n",
              "      <td>content='In John Wick 4, Keanu Reeves engages ...</td>\n",
              "      <td>[page_content=': 19\\nReview: John Wick: Chapte...</td>\n",
              "      <td>None</td>\n",
              "      <td>In John Wick, Keanu Reeves plays the role of J...</td>\n",
              "      <td>NaN</td>\n",
              "      <td>0.653222</td>\n",
              "      <td>51bee111-6296-4de0-b02b-29222e27be93</td>\n",
              "      <td>7a9ade98-e1d7-4d37-825f-d39b3670fc41</td>\n",
              "    </tr>\n",
              "  </tbody>\n",
              "</table>\n",
              "</div>"
            ],
            "text/plain": [
              "<ExperimentResults bm25_retrieval_chain_init-3132c0f7>"
            ]
          },
          "execution_count": 108,
          "metadata": {},
          "output_type": "execute_result"
        }
      ],
      "source": [
        "\n",
        "#evaluate bm25 retrieval chain in langsmith\n",
        "evaluate(\n",
        "    bm25_retrieval_chain.invoke,\n",
        "    data=langsmith_dataset,\n",
        "    evaluators=[qa_evaluator],\n",
        "    metadata={\"revision_id\": \"bm25_retrieval_chain\"},\n",
        "    experiment_prefix=\"bm25_retrieval_chain_init\"  \n",
        ")"
      ]
    },
    {
      "cell_type": "code",
      "execution_count": 109,
      "metadata": {},
      "outputs": [
        {
          "name": "stdout",
          "output_type": "stream",
          "text": [
            "View the evaluation results for experiment: 'contextual_compression_retrieval_chain_init-2e810c70' at:\n",
            "https://smith.langchain.com/o/239bc38e-a472-4022-97f0-84cd498894d1/datasets/d994ba33-4c35-4de2-9861-3e23dee794dc/compare?selectedSessions=b6b82734-24f6-4f4c-8e51-30345138934b\n",
            "\n",
            "\n"
          ]
        },
        {
          "data": {
            "application/vnd.jupyter.widget-view+json": {
              "model_id": "82739f6cdc6944ffb2101ceb28c4afdf",
              "version_major": 2,
              "version_minor": 0
            },
            "text/plain": [
              "0it [00:00, ?it/s]"
            ]
          },
          "metadata": {},
          "output_type": "display_data"
        },
        {
          "data": {
            "text/html": [
              "<div>\n",
              "<style scoped>\n",
              "    .dataframe tbody tr th:only-of-type {\n",
              "        vertical-align: middle;\n",
              "    }\n",
              "\n",
              "    .dataframe tbody tr th {\n",
              "        vertical-align: top;\n",
              "    }\n",
              "\n",
              "    .dataframe thead th {\n",
              "        text-align: right;\n",
              "    }\n",
              "</style>\n",
              "<table border=\"1\" class=\"dataframe\">\n",
              "  <thead>\n",
              "    <tr style=\"text-align: right;\">\n",
              "      <th></th>\n",
              "      <th>inputs.question</th>\n",
              "      <th>outputs.response</th>\n",
              "      <th>outputs.context</th>\n",
              "      <th>error</th>\n",
              "      <th>reference.answer</th>\n",
              "      <th>feedback.correctness</th>\n",
              "      <th>execution_time</th>\n",
              "      <th>example_id</th>\n",
              "      <th>id</th>\n",
              "    </tr>\n",
              "  </thead>\n",
              "  <tbody>\n",
              "    <tr>\n",
              "      <th>0</th>\n",
              "      <td>How has the John Wick franchise set a new stan...</td>\n",
              "      <td>content=\"The John Wick franchise has set a new...</td>\n",
              "      <td>[page_content=': 18\\nReview: Ever since the or...</td>\n",
              "      <td>None</td>\n",
              "      <td>The John Wick franchise, particularly since th...</td>\n",
              "      <td>0.0</td>\n",
              "      <td>2.397407</td>\n",
              "      <td>b30d8102-1243-4c37-a164-dba5925d89af</td>\n",
              "      <td>94a12881-2e16-461a-99f7-b55963a15104</td>\n",
              "    </tr>\n",
              "    <tr>\n",
              "      <th>1</th>\n",
              "      <td>Why Parabellum not exciting even with John Wic...</td>\n",
              "      <td>content='The reason why some viewers may find ...</td>\n",
              "      <td>[page_content=': 6\\nReview: Assassin John Wick...</td>\n",
              "      <td>None</td>\n",
              "      <td>Parabellum is not exciting because, despite Jo...</td>\n",
              "      <td>0.0</td>\n",
              "      <td>1.220085</td>\n",
              "      <td>a159c9f7-759e-47c4-8abf-58ef1f4668b4</td>\n",
              "      <td>101ecf3d-6cf0-47e5-8da7-37468d22cbea</td>\n",
              "    </tr>\n",
              "    <tr>\n",
              "      <th>2</th>\n",
              "      <td>What are the key elements that make Keanu Reev...</td>\n",
              "      <td>content=\"Keanu Reeves' portrayal of John Wick ...</td>\n",
              "      <td>[page_content=': 9\\nReview: At first glance, J...</td>\n",
              "      <td>None</td>\n",
              "      <td>Keanu Reeves' portrayal of John Wick stands ou...</td>\n",
              "      <td>1.0</td>\n",
              "      <td>1.829808</td>\n",
              "      <td>645522d1-3671-4f9c-9062-c02314f3114b</td>\n",
              "      <td>37d7d6cf-63dd-4b3e-a875-ff4a92ac3573</td>\n",
              "    </tr>\n",
              "    <tr>\n",
              "      <th>3</th>\n",
              "      <td>How does the cinematic execution of JOHN WICK ...</td>\n",
              "      <td>content=\"I don't know the specific details of ...</td>\n",
              "      <td>[page_content=': 14\\nReview: By now you know w...</td>\n",
              "      <td>None</td>\n",
              "      <td>JOHN WICK is praised for its relentless, pulse...</td>\n",
              "      <td>0.0</td>\n",
              "      <td>2.220997</td>\n",
              "      <td>6157bd4a-fc86-4b44-b8d1-103187a02d50</td>\n",
              "      <td>9c562551-b15b-474b-a5e3-cc0d99101d2e</td>\n",
              "    </tr>\n",
              "    <tr>\n",
              "      <th>4</th>\n",
              "      <td>What John Wick: Chapter 3 - Parabellum about a...</td>\n",
              "      <td>content=\"John Wick: Chapter 3 - Parabellum is ...</td>\n",
              "      <td>[page_content=': 24\\nReview: John Wick: Chapte...</td>\n",
              "      <td>None</td>\n",
              "      <td>John Wick: Chapter 3 - Parabellum is about the...</td>\n",
              "      <td>0.0</td>\n",
              "      <td>2.541477</td>\n",
              "      <td>c98f1e6f-dee8-4775-a602-6ec7631bf964</td>\n",
              "      <td>030f4df5-2217-44c2-8360-ae38ea92d7be</td>\n",
              "    </tr>\n",
              "    <tr>\n",
              "      <th>5</th>\n",
              "      <td>What motivates John Wick to come out of retire...</td>\n",
              "      <td>content='John Wick comes out of retirement in ...</td>\n",
              "      <td>[page_content=': 19\\nReview: If you've seen th...</td>\n",
              "      <td>None</td>\n",
              "      <td>In the original John Wick (2014), the ex-hit-m...</td>\n",
              "      <td>1.0</td>\n",
              "      <td>1.141197</td>\n",
              "      <td>e74e6cbd-431f-4e3f-97e0-b8a3d05249b8</td>\n",
              "      <td>93100a5d-64f2-48aa-a0aa-9f6bc3e200bc</td>\n",
              "    </tr>\n",
              "    <tr>\n",
              "      <th>6</th>\n",
              "      <td>Howw does Reeves perform in the moviee John Wick?</td>\n",
              "      <td>content='Keanu Reeves performs excellently in ...</td>\n",
              "      <td>[page_content=': 9\\nReview: At first glance, J...</td>\n",
              "      <td>None</td>\n",
              "      <td>Savvy, indestructible Reeves looks right at ho...</td>\n",
              "      <td>0.0</td>\n",
              "      <td>0.918319</td>\n",
              "      <td>ccd67b28-5964-44ae-aa03-3645db7a25d3</td>\n",
              "      <td>d7a71a99-b4ee-4a66-b573-0498ae9848ca</td>\n",
              "    </tr>\n",
              "    <tr>\n",
              "      <th>7</th>\n",
              "      <td>Why John Wick movie so special even if story s...</td>\n",
              "      <td>content='The John Wick movie is special becaus...</td>\n",
              "      <td>[page_content=': 3\\nReview: John wick has a ve...</td>\n",
              "      <td>None</td>\n",
              "      <td>John Wick is special because, despite its simp...</td>\n",
              "      <td>0.0</td>\n",
              "      <td>1.363370</td>\n",
              "      <td>9cb4cf94-ec69-461e-b6b2-fe6718a870a4</td>\n",
              "      <td>65000e9e-ecee-48ff-b8b9-b682681d642f</td>\n",
              "    </tr>\n",
              "    <tr>\n",
              "      <th>8</th>\n",
              "      <td>Why everyone like John Wick movies so much?</td>\n",
              "      <td>content=\"People seem to like John Wick movies ...</td>\n",
              "      <td>[page_content=': 9\\nReview: At first glance, J...</td>\n",
              "      <td>None</td>\n",
              "      <td>The fourth installment of John Wick is scoring...</td>\n",
              "      <td>0.0</td>\n",
              "      <td>1.586571</td>\n",
              "      <td>e4fcad63-a7c8-40be-b603-1c2b2c21759a</td>\n",
              "      <td>3e6031bd-53a8-490f-bb72-7328467be948</td>\n",
              "    </tr>\n",
              "    <tr>\n",
              "      <th>9</th>\n",
              "      <td>What Keanu Reeves do in John Wick?</td>\n",
              "      <td>content='In John Wick, Keanu Reeves plays the ...</td>\n",
              "      <td>[page_content=': 19\\nReview: If you've seen th...</td>\n",
              "      <td>None</td>\n",
              "      <td>In John Wick, Keanu Reeves plays the role of J...</td>\n",
              "      <td>NaN</td>\n",
              "      <td>2.654673</td>\n",
              "      <td>51bee111-6296-4de0-b02b-29222e27be93</td>\n",
              "      <td>60aa97aa-efad-41fe-b28d-e36abb39b53c</td>\n",
              "    </tr>\n",
              "  </tbody>\n",
              "</table>\n",
              "</div>"
            ],
            "text/plain": [
              "<ExperimentResults contextual_compression_retrieval_chain_init-2e810c70>"
            ]
          },
          "execution_count": 109,
          "metadata": {},
          "output_type": "execute_result"
        }
      ],
      "source": [
        "#evaluate contextual compression retrieval chain in langsmith\n",
        "evaluate(\n",
        "    contextual_compression_retrieval_chain.invoke,\n",
        "    data=langsmith_dataset,\n",
        "    evaluators=[qa_evaluator],\n",
        "    metadata={\"revision_id\": \"contextual_compression_retrieval_chain\"},\n",
        "    experiment_prefix=\"contextual_compression_retrieval_chain_init\"  \n",
        ")"
      ]
    },
    {
      "cell_type": "code",
      "execution_count": 110,
      "metadata": {},
      "outputs": [
        {
          "name": "stdout",
          "output_type": "stream",
          "text": [
            "View the evaluation results for experiment: 'multi_query_retrieval_chain_init-665b0d5e' at:\n",
            "https://smith.langchain.com/o/239bc38e-a472-4022-97f0-84cd498894d1/datasets/d994ba33-4c35-4de2-9861-3e23dee794dc/compare?selectedSessions=7128c42b-f9a4-46e5-9179-edd8dbcd31ca\n",
            "\n",
            "\n"
          ]
        },
        {
          "data": {
            "application/vnd.jupyter.widget-view+json": {
              "model_id": "5377fd22e2cf43afa1b6dacc5c323170",
              "version_major": 2,
              "version_minor": 0
            },
            "text/plain": [
              "0it [00:00, ?it/s]"
            ]
          },
          "metadata": {},
          "output_type": "display_data"
        },
        {
          "data": {
            "text/html": [
              "<div>\n",
              "<style scoped>\n",
              "    .dataframe tbody tr th:only-of-type {\n",
              "        vertical-align: middle;\n",
              "    }\n",
              "\n",
              "    .dataframe tbody tr th {\n",
              "        vertical-align: top;\n",
              "    }\n",
              "\n",
              "    .dataframe thead th {\n",
              "        text-align: right;\n",
              "    }\n",
              "</style>\n",
              "<table border=\"1\" class=\"dataframe\">\n",
              "  <thead>\n",
              "    <tr style=\"text-align: right;\">\n",
              "      <th></th>\n",
              "      <th>inputs.question</th>\n",
              "      <th>outputs.response</th>\n",
              "      <th>outputs.context</th>\n",
              "      <th>error</th>\n",
              "      <th>reference.answer</th>\n",
              "      <th>feedback.correctness</th>\n",
              "      <th>execution_time</th>\n",
              "      <th>example_id</th>\n",
              "      <th>id</th>\n",
              "    </tr>\n",
              "  </thead>\n",
              "  <tbody>\n",
              "    <tr>\n",
              "      <th>0</th>\n",
              "      <td>How has the John Wick franchise set a new stan...</td>\n",
              "      <td>content='The John Wick franchise has set a new...</td>\n",
              "      <td>[page_content=': 11\\nReview: JOHN WICK is a ra...</td>\n",
              "      <td>None</td>\n",
              "      <td>The John Wick franchise, particularly since th...</td>\n",
              "      <td>0.0</td>\n",
              "      <td>4.569184</td>\n",
              "      <td>b30d8102-1243-4c37-a164-dba5925d89af</td>\n",
              "      <td>a2627cda-c4ba-47fb-8848-9b6fc7d86916</td>\n",
              "    </tr>\n",
              "    <tr>\n",
              "      <th>1</th>\n",
              "      <td>Why Parabellum not exciting even with John Wic...</td>\n",
              "      <td>content=\"The reviews suggest that John Wick 3:...</td>\n",
              "      <td>[page_content=': 6\\nReview: Assassin John Wick...</td>\n",
              "      <td>None</td>\n",
              "      <td>Parabellum is not exciting because, despite Jo...</td>\n",
              "      <td>0.0</td>\n",
              "      <td>2.567012</td>\n",
              "      <td>a159c9f7-759e-47c4-8abf-58ef1f4668b4</td>\n",
              "      <td>f7673ee0-0e20-4603-b1be-a8793ba9e14a</td>\n",
              "    </tr>\n",
              "    <tr>\n",
              "      <th>2</th>\n",
              "      <td>What are the key elements that make Keanu Reev...</td>\n",
              "      <td>content=\"The key elements that make Keanu Reev...</td>\n",
              "      <td>[page_content=': 14\\nReview: Keanu Reeve is Jo...</td>\n",
              "      <td>None</td>\n",
              "      <td>Keanu Reeves' portrayal of John Wick stands ou...</td>\n",
              "      <td>0.0</td>\n",
              "      <td>2.953259</td>\n",
              "      <td>645522d1-3671-4f9c-9062-c02314f3114b</td>\n",
              "      <td>20630e89-2e45-4f0a-8cec-74c3930452ed</td>\n",
              "    </tr>\n",
              "    <tr>\n",
              "      <th>3</th>\n",
              "      <td>How does the cinematic execution of JOHN WICK ...</td>\n",
              "      <td>content=\"I'm sorry, but I don't have the speci...</td>\n",
              "      <td>[page_content=': 0\\nReview: It is 5 years sinc...</td>\n",
              "      <td>None</td>\n",
              "      <td>JOHN WICK is praised for its relentless, pulse...</td>\n",
              "      <td>0.0</td>\n",
              "      <td>2.956057</td>\n",
              "      <td>6157bd4a-fc86-4b44-b8d1-103187a02d50</td>\n",
              "      <td>89417856-0fa8-4960-b925-b5780598c455</td>\n",
              "    </tr>\n",
              "    <tr>\n",
              "      <th>4</th>\n",
              "      <td>What John Wick: Chapter 3 - Parabellum about a...</td>\n",
              "      <td>content=\"John Wick: Chapter 3 - Parabellum is ...</td>\n",
              "      <td>[page_content=': 0\\nReview: It is 5 years sinc...</td>\n",
              "      <td>None</td>\n",
              "      <td>John Wick: Chapter 3 - Parabellum is about the...</td>\n",
              "      <td>1.0</td>\n",
              "      <td>5.830040</td>\n",
              "      <td>c98f1e6f-dee8-4775-a602-6ec7631bf964</td>\n",
              "      <td>043b5b9d-3a92-42f6-89ed-a67953e91093</td>\n",
              "    </tr>\n",
              "    <tr>\n",
              "      <th>5</th>\n",
              "      <td>What motivates John Wick to come out of retire...</td>\n",
              "      <td>content='John Wick is motivated to come out of...</td>\n",
              "      <td>[page_content=': 18\\nReview: When the story be...</td>\n",
              "      <td>None</td>\n",
              "      <td>In the original John Wick (2014), the ex-hit-m...</td>\n",
              "      <td>1.0</td>\n",
              "      <td>2.852388</td>\n",
              "      <td>e74e6cbd-431f-4e3f-97e0-b8a3d05249b8</td>\n",
              "      <td>ed9bb110-fa1e-4226-b701-7210b3263dab</td>\n",
              "    </tr>\n",
              "    <tr>\n",
              "      <th>6</th>\n",
              "      <td>Howw does Reeves perform in the moviee John Wick?</td>\n",
              "      <td>content='Keanu Reeves performs exceptionally w...</td>\n",
              "      <td>[page_content=': 14\\nReview: Keanu Reeve is Jo...</td>\n",
              "      <td>None</td>\n",
              "      <td>Savvy, indestructible Reeves looks right at ho...</td>\n",
              "      <td>0.0</td>\n",
              "      <td>2.579411</td>\n",
              "      <td>ccd67b28-5964-44ae-aa03-3645db7a25d3</td>\n",
              "      <td>569ca9a4-bd79-4387-96bf-b5d2e99081f6</td>\n",
              "    </tr>\n",
              "    <tr>\n",
              "      <th>7</th>\n",
              "      <td>Why John Wick movie so special even if story s...</td>\n",
              "      <td>content=\"[Answer]: The John Wick movie is spec...</td>\n",
              "      <td>[page_content=': 3\\nReview: John wick has a ve...</td>\n",
              "      <td>None</td>\n",
              "      <td>John Wick is special because, despite its simp...</td>\n",
              "      <td>0.0</td>\n",
              "      <td>2.630238</td>\n",
              "      <td>9cb4cf94-ec69-461e-b6b2-fe6718a870a4</td>\n",
              "      <td>482ace56-ffc3-42a1-ae0c-89b996adc573</td>\n",
              "    </tr>\n",
              "    <tr>\n",
              "      <th>8</th>\n",
              "      <td>Why everyone like John Wick movies so much?</td>\n",
              "      <td>content='People seem to like John Wick movies ...</td>\n",
              "      <td>[page_content=': 9\\nReview: At first glance, J...</td>\n",
              "      <td>None</td>\n",
              "      <td>The fourth installment of John Wick is scoring...</td>\n",
              "      <td>0.0</td>\n",
              "      <td>3.184125</td>\n",
              "      <td>e4fcad63-a7c8-40be-b603-1c2b2c21759a</td>\n",
              "      <td>05544b0a-ebfd-49b1-b970-759c87366dd0</td>\n",
              "    </tr>\n",
              "    <tr>\n",
              "      <th>9</th>\n",
              "      <td>What Keanu Reeves do in John Wick?</td>\n",
              "      <td>content=\"In John Wick, Keanu Reeves plays the ...</td>\n",
              "      <td>[page_content=': 19\\nReview: If you've seen th...</td>\n",
              "      <td>None</td>\n",
              "      <td>In John Wick, Keanu Reeves plays the role of J...</td>\n",
              "      <td>NaN</td>\n",
              "      <td>2.483979</td>\n",
              "      <td>51bee111-6296-4de0-b02b-29222e27be93</td>\n",
              "      <td>e17e149c-25b7-4639-8eda-4be244189f93</td>\n",
              "    </tr>\n",
              "  </tbody>\n",
              "</table>\n",
              "</div>"
            ],
            "text/plain": [
              "<ExperimentResults multi_query_retrieval_chain_init-665b0d5e>"
            ]
          },
          "execution_count": 110,
          "metadata": {},
          "output_type": "execute_result"
        }
      ],
      "source": [
        "#evaluate multi_query_retrieval_chain in langsmith\n",
        "evaluate(\n",
        "    multi_query_retrieval_chain.invoke,\n",
        "    data=langsmith_dataset,\n",
        "    evaluators=[qa_evaluator],\n",
        "    metadata={\"revision_id\": \"multi_query_retrieval_chain\"},\n",
        "    experiment_prefix=\"multi_query_retrieval_chain_init\"  \n",
        ")"
      ]
    },
    {
      "cell_type": "code",
      "execution_count": 111,
      "metadata": {},
      "outputs": [
        {
          "name": "stdout",
          "output_type": "stream",
          "text": [
            "View the evaluation results for experiment: 'parent_document_retrieval_chain_init-51f07832' at:\n",
            "https://smith.langchain.com/o/239bc38e-a472-4022-97f0-84cd498894d1/datasets/d994ba33-4c35-4de2-9861-3e23dee794dc/compare?selectedSessions=b87c79fc-86e6-4569-b6b4-d190c27504db\n",
            "\n",
            "\n"
          ]
        },
        {
          "data": {
            "application/vnd.jupyter.widget-view+json": {
              "model_id": "c1f5f45e74404c8dbcb1a71ec0cee420",
              "version_major": 2,
              "version_minor": 0
            },
            "text/plain": [
              "0it [00:00, ?it/s]"
            ]
          },
          "metadata": {},
          "output_type": "display_data"
        },
        {
          "data": {
            "text/html": [
              "<div>\n",
              "<style scoped>\n",
              "    .dataframe tbody tr th:only-of-type {\n",
              "        vertical-align: middle;\n",
              "    }\n",
              "\n",
              "    .dataframe tbody tr th {\n",
              "        vertical-align: top;\n",
              "    }\n",
              "\n",
              "    .dataframe thead th {\n",
              "        text-align: right;\n",
              "    }\n",
              "</style>\n",
              "<table border=\"1\" class=\"dataframe\">\n",
              "  <thead>\n",
              "    <tr style=\"text-align: right;\">\n",
              "      <th></th>\n",
              "      <th>inputs.question</th>\n",
              "      <th>outputs.response</th>\n",
              "      <th>outputs.context</th>\n",
              "      <th>error</th>\n",
              "      <th>reference.answer</th>\n",
              "      <th>feedback.correctness</th>\n",
              "      <th>execution_time</th>\n",
              "      <th>example_id</th>\n",
              "      <th>id</th>\n",
              "    </tr>\n",
              "  </thead>\n",
              "  <tbody>\n",
              "    <tr>\n",
              "      <th>0</th>\n",
              "      <td>How has the John Wick franchise set a new stan...</td>\n",
              "      <td>content=\"The John Wick franchise has set a new...</td>\n",
              "      <td>[page_content=': 18\\nReview: Ever since the or...</td>\n",
              "      <td>None</td>\n",
              "      <td>The John Wick franchise, particularly since th...</td>\n",
              "      <td>0.0</td>\n",
              "      <td>2.212943</td>\n",
              "      <td>b30d8102-1243-4c37-a164-dba5925d89af</td>\n",
              "      <td>08ff241f-1b66-4c7f-b07c-eda2ad2db162</td>\n",
              "    </tr>\n",
              "    <tr>\n",
              "      <th>1</th>\n",
              "      <td>Why Parabellum not exciting even with John Wic...</td>\n",
              "      <td>content='It seems like the reviewer found \"Joh...</td>\n",
              "      <td>[page_content=': 11\\nReview: The overrated \"Jo...</td>\n",
              "      <td>None</td>\n",
              "      <td>Parabellum is not exciting because, despite Jo...</td>\n",
              "      <td>0.0</td>\n",
              "      <td>1.253405</td>\n",
              "      <td>a159c9f7-759e-47c4-8abf-58ef1f4668b4</td>\n",
              "      <td>39375b34-539e-4148-8cb8-33118547b6db</td>\n",
              "    </tr>\n",
              "    <tr>\n",
              "      <th>2</th>\n",
              "      <td>What are the key elements that make Keanu Reev...</td>\n",
              "      <td>content=\"Keanu Reeves' portrayal of John Wick ...</td>\n",
              "      <td>[page_content=': 14\\nReview: Keanu Reeve is Jo...</td>\n",
              "      <td>None</td>\n",
              "      <td>Keanu Reeves' portrayal of John Wick stands ou...</td>\n",
              "      <td>0.0</td>\n",
              "      <td>1.131403</td>\n",
              "      <td>645522d1-3671-4f9c-9062-c02314f3114b</td>\n",
              "      <td>f43d319d-6170-4072-96ea-d78af8c70840</td>\n",
              "    </tr>\n",
              "    <tr>\n",
              "      <th>3</th>\n",
              "      <td>How does the cinematic execution of JOHN WICK ...</td>\n",
              "      <td>content=\"I don't have the specific details to ...</td>\n",
              "      <td>[page_content=': 16\\nReview: Ok, so I got back...</td>\n",
              "      <td>None</td>\n",
              "      <td>JOHN WICK is praised for its relentless, pulse...</td>\n",
              "      <td>0.0</td>\n",
              "      <td>0.949937</td>\n",
              "      <td>6157bd4a-fc86-4b44-b8d1-103187a02d50</td>\n",
              "      <td>c57cd95d-09ad-4c5f-bc9d-f5219090f6cd</td>\n",
              "    </tr>\n",
              "    <tr>\n",
              "      <th>4</th>\n",
              "      <td>What John Wick: Chapter 3 - Parabellum about a...</td>\n",
              "      <td>content='John Wick: Chapter 3 - Parabellum is ...</td>\n",
              "      <td>[page_content=': 11\\nReview: The overrated \"Jo...</td>\n",
              "      <td>None</td>\n",
              "      <td>John Wick: Chapter 3 - Parabellum is about the...</td>\n",
              "      <td>1.0</td>\n",
              "      <td>1.538504</td>\n",
              "      <td>c98f1e6f-dee8-4775-a602-6ec7631bf964</td>\n",
              "      <td>0e73731f-5ff5-409b-a145-3ce0cba22260</td>\n",
              "    </tr>\n",
              "    <tr>\n",
              "      <th>5</th>\n",
              "      <td>What motivates John Wick to come out of retire...</td>\n",
              "      <td>content='John Wick comes out of retirement in ...</td>\n",
              "      <td>[page_content=': 19\\nReview: If you've seen th...</td>\n",
              "      <td>None</td>\n",
              "      <td>In the original John Wick (2014), the ex-hit-m...</td>\n",
              "      <td>1.0</td>\n",
              "      <td>0.741180</td>\n",
              "      <td>e74e6cbd-431f-4e3f-97e0-b8a3d05249b8</td>\n",
              "      <td>c90379a6-cbff-45fd-af02-23ca58960e41</td>\n",
              "    </tr>\n",
              "    <tr>\n",
              "      <th>6</th>\n",
              "      <td>Howw does Reeves perform in the moviee John Wick?</td>\n",
              "      <td>content='Reeves performs exceptionally well in...</td>\n",
              "      <td>[page_content=': 9\\nReview: At first glance, J...</td>\n",
              "      <td>None</td>\n",
              "      <td>Savvy, indestructible Reeves looks right at ho...</td>\n",
              "      <td>0.0</td>\n",
              "      <td>1.410770</td>\n",
              "      <td>ccd67b28-5964-44ae-aa03-3645db7a25d3</td>\n",
              "      <td>68541051-58a4-43f4-bf36-0556859fad1d</td>\n",
              "    </tr>\n",
              "    <tr>\n",
              "      <th>7</th>\n",
              "      <td>Why John Wick movie so special even if story s...</td>\n",
              "      <td>content='John Wick movies are special because ...</td>\n",
              "      <td>[page_content=': 3\\nReview: John wick has a ve...</td>\n",
              "      <td>None</td>\n",
              "      <td>John Wick is special because, despite its simp...</td>\n",
              "      <td>0.0</td>\n",
              "      <td>1.987550</td>\n",
              "      <td>9cb4cf94-ec69-461e-b6b2-fe6718a870a4</td>\n",
              "      <td>2585e0f1-e707-4ef1-bf93-b5dc0ec8b1ca</td>\n",
              "    </tr>\n",
              "    <tr>\n",
              "      <th>8</th>\n",
              "      <td>Why everyone like John Wick movies so much?</td>\n",
              "      <td>content='People like John Wick movies so much ...</td>\n",
              "      <td>[page_content=': 8\\nReview: It's hard to find ...</td>\n",
              "      <td>None</td>\n",
              "      <td>The fourth installment of John Wick is scoring...</td>\n",
              "      <td>0.0</td>\n",
              "      <td>0.954298</td>\n",
              "      <td>e4fcad63-a7c8-40be-b603-1c2b2c21759a</td>\n",
              "      <td>45f4c08b-fcd6-4839-893b-bf1d06e30ab1</td>\n",
              "    </tr>\n",
              "    <tr>\n",
              "      <th>9</th>\n",
              "      <td>What Keanu Reeves do in John Wick?</td>\n",
              "      <td>content=\"In John Wick, Keanu Reeves plays the ...</td>\n",
              "      <td>[page_content=': 19\\nReview: If you've seen th...</td>\n",
              "      <td>None</td>\n",
              "      <td>In John Wick, Keanu Reeves plays the role of J...</td>\n",
              "      <td>NaN</td>\n",
              "      <td>1.297598</td>\n",
              "      <td>51bee111-6296-4de0-b02b-29222e27be93</td>\n",
              "      <td>ef87d55e-7573-4fea-9ce2-e4a2d658648b</td>\n",
              "    </tr>\n",
              "  </tbody>\n",
              "</table>\n",
              "</div>"
            ],
            "text/plain": [
              "<ExperimentResults parent_document_retrieval_chain_init-51f07832>"
            ]
          },
          "execution_count": 111,
          "metadata": {},
          "output_type": "execute_result"
        }
      ],
      "source": [
        "\n",
        "evaluate(\n",
        "    parent_document_retrieval_chain.invoke,\n",
        "    data=langsmith_dataset,\n",
        "    evaluators=[qa_evaluator],\n",
        "    metadata={\"revision_id\": \"parent_document_retrieval_chain\"},\n",
        "    experiment_prefix=\"parent_document_retrieval_chain_init\"  \n",
        ")"
      ]
    },
    {
      "cell_type": "code",
      "execution_count": 112,
      "metadata": {},
      "outputs": [
        {
          "name": "stdout",
          "output_type": "stream",
          "text": [
            "View the evaluation results for experiment: 'ensemble_retrieval_chain_init-4269ae48' at:\n",
            "https://smith.langchain.com/o/239bc38e-a472-4022-97f0-84cd498894d1/datasets/d994ba33-4c35-4de2-9861-3e23dee794dc/compare?selectedSessions=a2225560-5d24-46e6-a361-e8b55c23bf2f\n",
            "\n",
            "\n"
          ]
        },
        {
          "data": {
            "application/vnd.jupyter.widget-view+json": {
              "model_id": "468938e780214a0386cf384d80c2d466",
              "version_major": 2,
              "version_minor": 0
            },
            "text/plain": [
              "0it [00:00, ?it/s]"
            ]
          },
          "metadata": {},
          "output_type": "display_data"
        },
        {
          "data": {
            "text/html": [
              "<div>\n",
              "<style scoped>\n",
              "    .dataframe tbody tr th:only-of-type {\n",
              "        vertical-align: middle;\n",
              "    }\n",
              "\n",
              "    .dataframe tbody tr th {\n",
              "        vertical-align: top;\n",
              "    }\n",
              "\n",
              "    .dataframe thead th {\n",
              "        text-align: right;\n",
              "    }\n",
              "</style>\n",
              "<table border=\"1\" class=\"dataframe\">\n",
              "  <thead>\n",
              "    <tr style=\"text-align: right;\">\n",
              "      <th></th>\n",
              "      <th>inputs.question</th>\n",
              "      <th>outputs.response</th>\n",
              "      <th>outputs.context</th>\n",
              "      <th>error</th>\n",
              "      <th>reference.answer</th>\n",
              "      <th>feedback.correctness</th>\n",
              "      <th>execution_time</th>\n",
              "      <th>example_id</th>\n",
              "      <th>id</th>\n",
              "    </tr>\n",
              "  </thead>\n",
              "  <tbody>\n",
              "    <tr>\n",
              "      <th>0</th>\n",
              "      <td>How has the John Wick franchise set a new stan...</td>\n",
              "      <td>content=\"The John Wick franchise has set a new...</td>\n",
              "      <td>[page_content=': 18\\nReview: Ever since the or...</td>\n",
              "      <td>None</td>\n",
              "      <td>The John Wick franchise, particularly since th...</td>\n",
              "      <td>0.0</td>\n",
              "      <td>6.404524</td>\n",
              "      <td>b30d8102-1243-4c37-a164-dba5925d89af</td>\n",
              "      <td>7e54fa10-7f68-4083-ba59-d3a768d9bcd2</td>\n",
              "    </tr>\n",
              "    <tr>\n",
              "      <th>1</th>\n",
              "      <td>Why Parabellum not exciting even with John Wic...</td>\n",
              "      <td>content=\"John Wick 3 may not be as exciting fo...</td>\n",
              "      <td>[page_content=': 6\\nReview: Assassin John Wick...</td>\n",
              "      <td>None</td>\n",
              "      <td>Parabellum is not exciting because, despite Jo...</td>\n",
              "      <td>0.0</td>\n",
              "      <td>3.289473</td>\n",
              "      <td>a159c9f7-759e-47c4-8abf-58ef1f4668b4</td>\n",
              "      <td>680d6b48-7f1f-45e3-aa3b-7c3e2fbcea24</td>\n",
              "    </tr>\n",
              "    <tr>\n",
              "      <th>2</th>\n",
              "      <td>What are the key elements that make Keanu Reev...</td>\n",
              "      <td>content=\"Keanu Reeves' portrayal of John Wick ...</td>\n",
              "      <td>[page_content=': 9\\nReview: At first glance, J...</td>\n",
              "      <td>None</td>\n",
              "      <td>Keanu Reeves' portrayal of John Wick stands ou...</td>\n",
              "      <td>0.0</td>\n",
              "      <td>3.879640</td>\n",
              "      <td>645522d1-3671-4f9c-9062-c02314f3114b</td>\n",
              "      <td>de8d98d8-8f3f-4761-97b9-0c2f2f0ae8e5</td>\n",
              "    </tr>\n",
              "    <tr>\n",
              "      <th>3</th>\n",
              "      <td>How does the cinematic execution of JOHN WICK ...</td>\n",
              "      <td>content=\"I'm unable to provide a direct compar...</td>\n",
              "      <td>[page_content=': 14\\nReview: By now you know w...</td>\n",
              "      <td>None</td>\n",
              "      <td>JOHN WICK is praised for its relentless, pulse...</td>\n",
              "      <td>0.0</td>\n",
              "      <td>3.193208</td>\n",
              "      <td>6157bd4a-fc86-4b44-b8d1-103187a02d50</td>\n",
              "      <td>d94f90ab-3429-438f-80ff-ceba4be591de</td>\n",
              "    </tr>\n",
              "    <tr>\n",
              "      <th>4</th>\n",
              "      <td>What John Wick: Chapter 3 - Parabellum about a...</td>\n",
              "      <td>content=\"John Wick: Chapter 3 - Parabellum is ...</td>\n",
              "      <td>[page_content=': 24\\nReview: John Wick: Chapte...</td>\n",
              "      <td>None</td>\n",
              "      <td>John Wick: Chapter 3 - Parabellum is about the...</td>\n",
              "      <td>1.0</td>\n",
              "      <td>3.522756</td>\n",
              "      <td>c98f1e6f-dee8-4775-a602-6ec7631bf964</td>\n",
              "      <td>7d0abe00-2593-455b-83b9-a106c7757eda</td>\n",
              "    </tr>\n",
              "    <tr>\n",
              "      <th>5</th>\n",
              "      <td>What motivates John Wick to come out of retire...</td>\n",
              "      <td>content='John Wick is motivated to come out of...</td>\n",
              "      <td>[page_content=': 19\\nReview: If you've seen th...</td>\n",
              "      <td>None</td>\n",
              "      <td>In the original John Wick (2014), the ex-hit-m...</td>\n",
              "      <td>0.0</td>\n",
              "      <td>4.454549</td>\n",
              "      <td>e74e6cbd-431f-4e3f-97e0-b8a3d05249b8</td>\n",
              "      <td>e1852b8f-ed5d-41b2-b23c-e823a4b74e4d</td>\n",
              "    </tr>\n",
              "    <tr>\n",
              "      <th>6</th>\n",
              "      <td>Howw does Reeves perform in the moviee John Wick?</td>\n",
              "      <td>content='Reeves performs excellently in the mo...</td>\n",
              "      <td>[page_content=': 9\\nReview: At first glance, J...</td>\n",
              "      <td>None</td>\n",
              "      <td>Savvy, indestructible Reeves looks right at ho...</td>\n",
              "      <td>0.0</td>\n",
              "      <td>4.901107</td>\n",
              "      <td>ccd67b28-5964-44ae-aa03-3645db7a25d3</td>\n",
              "      <td>17ffd179-ee08-4c95-ae8f-b51cabd6f42d</td>\n",
              "    </tr>\n",
              "    <tr>\n",
              "      <th>7</th>\n",
              "      <td>Why John Wick movie so special even if story s...</td>\n",
              "      <td>content='The John Wick movie is special becaus...</td>\n",
              "      <td>[page_content=': 3\\nReview: John wick has a ve...</td>\n",
              "      <td>None</td>\n",
              "      <td>John Wick is special because, despite its simp...</td>\n",
              "      <td>0.0</td>\n",
              "      <td>6.543692</td>\n",
              "      <td>9cb4cf94-ec69-461e-b6b2-fe6718a870a4</td>\n",
              "      <td>49bc2e3b-3166-4ae0-accf-6bfe2cb74cb5</td>\n",
              "    </tr>\n",
              "    <tr>\n",
              "      <th>8</th>\n",
              "      <td>Why everyone like John Wick movies so much?</td>\n",
              "      <td>content=\"The John Wick movies are loved by man...</td>\n",
              "      <td>[page_content=': 9\\nReview: At first glance, J...</td>\n",
              "      <td>None</td>\n",
              "      <td>The fourth installment of John Wick is scoring...</td>\n",
              "      <td>0.0</td>\n",
              "      <td>3.747879</td>\n",
              "      <td>e4fcad63-a7c8-40be-b603-1c2b2c21759a</td>\n",
              "      <td>7358244f-4f59-43e1-ad0a-c9c1b0a032ed</td>\n",
              "    </tr>\n",
              "    <tr>\n",
              "      <th>9</th>\n",
              "      <td>What Keanu Reeves do in John Wick?</td>\n",
              "      <td>content=\"In the movie John Wick, Keanu Reeves ...</td>\n",
              "      <td>[page_content=': 19\\nReview: If you've seen th...</td>\n",
              "      <td>None</td>\n",
              "      <td>In John Wick, Keanu Reeves plays the role of J...</td>\n",
              "      <td>NaN</td>\n",
              "      <td>2.885132</td>\n",
              "      <td>51bee111-6296-4de0-b02b-29222e27be93</td>\n",
              "      <td>1fe7e365-9553-4e9c-b39a-ac6dc8bf601c</td>\n",
              "    </tr>\n",
              "  </tbody>\n",
              "</table>\n",
              "</div>"
            ],
            "text/plain": [
              "<ExperimentResults ensemble_retrieval_chain_init-4269ae48>"
            ]
          },
          "execution_count": 112,
          "metadata": {},
          "output_type": "execute_result"
        }
      ],
      "source": [
        "evaluate(\n",
        "    ensemble_retrieval_chain.invoke,\n",
        "    data=langsmith_dataset,\n",
        "    evaluators=[qa_evaluator],\n",
        "    metadata={\"revision_id\": \"ensemble_retrieval_chain\"},\n",
        "    experiment_prefix=\"ensemble_retrieval_chain_init\"  \n",
        ")"
      ]
    },
    {
      "cell_type": "code",
      "execution_count": null,
      "metadata": {},
      "outputs": [],
      "source": []
    },
    {
      "cell_type": "code",
      "execution_count": 113,
      "metadata": {},
      "outputs": [],
      "source": [
        "### Ragas evaluations\n",
        "from ragas.metrics import LLMContextRecall, Faithfulness, FactualCorrectness, ResponseRelevancy, ContextEntityRecall, NoiseSensitivity\n",
        "from ragas import evaluate, RunConfig\n",
        "\n",
        "custom_run_config = RunConfig(timeout=360)"
      ]
    },
    {
      "cell_type": "code",
      "execution_count": 120,
      "metadata": {},
      "outputs": [],
      "source": [
        "#prep dataset for ragas with naive retrieval chain\n",
        "\n",
        "for test_row in dataset:\n",
        "  response = naive_retrieval_chain.invoke({\"question\" : test_row.eval_sample.user_input})\n",
        "  test_row.eval_sample.response = str(response[\"response\"].content)\n",
        "  test_row.eval_sample.retrieved_contexts = [context.page_content for context in response[\"context\"]]\n",
        "\n",
        "from ragas import EvaluationDataset\n",
        "\n",
        "evaluation_dataset = EvaluationDataset.from_pandas(dataset.to_pandas())"
      ]
    },
    {
      "cell_type": "code",
      "execution_count": 121,
      "metadata": {},
      "outputs": [
        {
          "data": {
            "application/vnd.jupyter.widget-view+json": {
              "model_id": "7bf691f92e07418ea930edcb8b94e8fd",
              "version_major": 2,
              "version_minor": 0
            },
            "text/plain": [
              "Evaluating:   0%|          | 0/60 [00:00<?, ?it/s]"
            ]
          },
          "metadata": {},
          "output_type": "display_data"
        },
        {
          "name": "stderr",
          "output_type": "stream",
          "text": [
            "Exception raised in Job[13]: RateLimitError(Error code: 429 - {'error': {'message': 'Rate limit reached for gpt-4 in organization org-TU5fm55zJrncrgPcg3lg23B6 on tokens per min (TPM): Limit 40000, Used 38544, Requested 3736. Please try again in 3.42s. Visit https://platform.openai.com/account/rate-limits to learn more.', 'type': 'tokens', 'param': None, 'code': 'rate_limit_exceeded'}})\n",
            "Exception raised in Job[24]: RateLimitError(Error code: 429 - {'error': {'message': 'Rate limit reached for gpt-4 in organization org-TU5fm55zJrncrgPcg3lg23B6 on tokens per min (TPM): Limit 40000, Used 38876, Requested 3437. Please try again in 3.469s. Visit https://platform.openai.com/account/rate-limits to learn more.', 'type': 'tokens', 'param': None, 'code': 'rate_limit_exceeded'}})\n",
            "Exception raised in Job[28]: RateLimitError(Error code: 429 - {'error': {'message': 'Rate limit reached for gpt-4 in organization org-TU5fm55zJrncrgPcg3lg23B6 on tokens per min (TPM): Limit 40000, Used 39573, Requested 3086. Please try again in 3.988s. Visit https://platform.openai.com/account/rate-limits to learn more.', 'type': 'tokens', 'param': None, 'code': 'rate_limit_exceeded'}})\n",
            "Exception raised in Job[30]: RateLimitError(Error code: 429 - {'error': {'message': 'Rate limit reached for gpt-4 in organization org-TU5fm55zJrncrgPcg3lg23B6 on tokens per min (TPM): Limit 40000, Used 39555, Requested 2367. Please try again in 2.883s. Visit https://platform.openai.com/account/rate-limits to learn more.', 'type': 'tokens', 'param': None, 'code': 'rate_limit_exceeded'}})\n",
            "Exception raised in Job[7]: RateLimitError(Error code: 429 - {'error': {'message': 'Rate limit reached for gpt-4 in organization org-TU5fm55zJrncrgPcg3lg23B6 on tokens per min (TPM): Limit 40000, Used 39123, Requested 3665. Please try again in 4.182s. Visit https://platform.openai.com/account/rate-limits to learn more.', 'type': 'tokens', 'param': None, 'code': 'rate_limit_exceeded'}})\n",
            "Exception raised in Job[22]: RateLimitError(Error code: 429 - {'error': {'message': 'Rate limit reached for gpt-4 in organization org-TU5fm55zJrncrgPcg3lg23B6 on tokens per min (TPM): Limit 40000, Used 37939, Requested 3111. Please try again in 1.575s. Visit https://platform.openai.com/account/rate-limits to learn more.', 'type': 'tokens', 'param': None, 'code': 'rate_limit_exceeded'}})\n",
            "Exception raised in Job[25]: RateLimitError(Error code: 429 - {'error': {'message': 'Rate limit reached for gpt-4 in organization org-TU5fm55zJrncrgPcg3lg23B6 on tokens per min (TPM): Limit 40000, Used 39843, Requested 3379. Please try again in 4.833s. Visit https://platform.openai.com/account/rate-limits to learn more.', 'type': 'tokens', 'param': None, 'code': 'rate_limit_exceeded'}})\n",
            "Exception raised in Job[36]: RateLimitError(Error code: 429 - {'error': {'message': 'Rate limit reached for gpt-4 in organization org-TU5fm55zJrncrgPcg3lg23B6 on tokens per min (TPM): Limit 40000, Used 39433, Requested 3180. Please try again in 3.919s. Visit https://platform.openai.com/account/rate-limits to learn more.', 'type': 'tokens', 'param': None, 'code': 'rate_limit_exceeded'}})\n",
            "Exception raised in Job[19]: RateLimitError(Error code: 429 - {'error': {'message': 'Rate limit reached for gpt-4 in organization org-TU5fm55zJrncrgPcg3lg23B6 on tokens per min (TPM): Limit 40000, Used 39603, Requested 3442. Please try again in 4.567s. Visit https://platform.openai.com/account/rate-limits to learn more.', 'type': 'tokens', 'param': None, 'code': 'rate_limit_exceeded'}})\n",
            "Exception raised in Job[37]: RateLimitError(Error code: 429 - {'error': {'message': 'Rate limit reached for gpt-4 in organization org-TU5fm55zJrncrgPcg3lg23B6 on tokens per min (TPM): Limit 40000, Used 39825, Requested 2934. Please try again in 4.138s. Visit https://platform.openai.com/account/rate-limits to learn more.', 'type': 'tokens', 'param': None, 'code': 'rate_limit_exceeded'}})\n",
            "Exception raised in Job[40]: RateLimitError(Error code: 429 - {'error': {'message': 'Rate limit reached for gpt-4 in organization org-TU5fm55zJrncrgPcg3lg23B6 on tokens per min (TPM): Limit 40000, Used 39408, Requested 2679. Please try again in 3.13s. Visit https://platform.openai.com/account/rate-limits to learn more.', 'type': 'tokens', 'param': None, 'code': 'rate_limit_exceeded'}})\n",
            "Exception raised in Job[11]: TimeoutError()\n",
            "Exception raised in Job[17]: TimeoutError()\n",
            "Exception raised in Job[42]: RateLimitError(Error code: 429 - {'error': {'message': 'Rate limit reached for gpt-4 in organization org-TU5fm55zJrncrgPcg3lg23B6 on tokens per min (TPM): Limit 40000, Used 39222, Requested 3434. Please try again in 3.984s. Visit https://platform.openai.com/account/rate-limits to learn more.', 'type': 'tokens', 'param': None, 'code': 'rate_limit_exceeded'}})\n",
            "Exception raised in Job[43]: RateLimitError(Error code: 429 - {'error': {'message': 'Rate limit reached for gpt-4 in organization org-TU5fm55zJrncrgPcg3lg23B6 on tokens per min (TPM): Limit 40000, Used 39214, Requested 3427. Please try again in 3.961s. Visit https://platform.openai.com/account/rate-limits to learn more.', 'type': 'tokens', 'param': None, 'code': 'rate_limit_exceeded'}})\n",
            "Exception raised in Job[48]: OutputParserException(Failed to parse StringIO from completion {\"classifications\": [{\"statement\": \"Parabellum is not exciting because, despite John Wick being referred to as Baba Yaga, suggesting he is a supernatural being with abilities like evading death and moving with lightning-fast reflexes, his invincibility makes the action scenes predictable.\", \"reason\": \"The context mentions John Wick being referred to as Baba Yaga and his supernatural abilities, as well as the predictability of the action scenes due to his invincibility.\", \"attributed\": 1}, {\"statement\": \"The outcome is always that Wick survives and his enemies are dead, which removes the excitement from the action sequences.\", \"reason\": \"The context mentions that the outcome of the action scenes is always that Wick survives and his enemies are dead, which removes the excitement.\", \"attributed\": 1}]}. Got: 1 validation error for StringIO\n",
            "text\n",
            "  Field required [type=missing, input_value={'classifications': [{'st...nt.', 'attributed': 1}]}, input_type=dict]\n",
            "    For further information visit https://errors.pydantic.dev/2.10/v/missing\n",
            "For troubleshooting, visit: https://python.langchain.com/docs/troubleshooting/errors/OUTPUT_PARSING_FAILURE )\n",
            "Exception raised in Job[54]: OutputParserException(Failed to parse StringIO from completion {\"claims\": [\"The John Wick franchise has set a new standard for action films in Hollywood by delivering expertly choreographed, shot, and edited action sequences.\", \"This is largely due to the technical expertise of Chad Stahelski and Keanu Reeves.\", \"The franchise is known for its creativity and has become a benchmark for great action filmmaking.\", \"The fourth film, at 169 minutes long, continues this trend with an infusion of creativity.\", \"John Wick shares similarities with international action films like THE RAID, which are known for their intensity and momentum.\", \"Both John Wick and films like THE RAID focus on lean, pared-down filmmaking that emphasizes relentless, pulse-pounding action, making them standout examples in the action genre.\"]}. Got: 1 validation error for StringIO\n",
            "text\n",
            "  Field required [type=missing, input_value={'claims': ['The John Wic... in the action genre.']}, input_type=dict]\n",
            "    For further information visit https://errors.pydantic.dev/2.10/v/missing\n",
            "For troubleshooting, visit: https://python.langchain.com/docs/troubleshooting/errors/OUTPUT_PARSING_FAILURE )\n",
            "Exception raised in Job[41]: TimeoutError()\n",
            "Exception raised in Job[47]: TimeoutError()\n",
            "Exception raised in Job[59]: TimeoutError()\n"
          ]
        },
        {
          "data": {
            "text/plain": [
              "{'context_recall': 0.7500, 'faithfulness': 0.9750, 'factual_correctness': 0.3970, 'answer_relevancy': 0.7644, 'context_entity_recall': 0.5107, 'noise_sensitivity_relevant': 0.3000}"
            ]
          },
          "execution_count": 121,
          "metadata": {},
          "output_type": "execute_result"
        }
      ],
      "source": [
        "result = evaluate(\n",
        "    dataset=evaluation_dataset,\n",
        "    metrics=[LLMContextRecall(), Faithfulness(), FactualCorrectness(), ResponseRelevancy(), ContextEntityRecall(), NoiseSensitivity()],\n",
        "    llm=evaluator_llm,\n",
        "    run_config=custom_run_config\n",
        ")\n",
        "result"
      ]
    },
    {
      "cell_type": "code",
      "execution_count": 118,
      "metadata": {},
      "outputs": [],
      "source": [
        "#prep dataset for ragas with bm25 retrieval chain\n",
        "\n",
        "for test_row in dataset:\n",
        "  response = bm25_retrieval_chain.invoke({\"question\" : test_row.eval_sample.user_input})\n",
        "  test_row.eval_sample.response = str(response[\"response\"].content)\n",
        "  test_row.eval_sample.retrieved_contexts = [context.page_content for context in response[\"context\"]]\n",
        "\n",
        "from ragas import EvaluationDataset\n",
        "\n",
        "evaluation_dataset = EvaluationDataset.from_pandas(dataset.to_pandas())"
      ]
    },
    {
      "cell_type": "code",
      "execution_count": 119,
      "metadata": {},
      "outputs": [
        {
          "data": {
            "application/vnd.jupyter.widget-view+json": {
              "model_id": "c728b95da952496a84f0b1c0acbb1430",
              "version_major": 2,
              "version_minor": 0
            },
            "text/plain": [
              "Evaluating:   0%|          | 0/60 [00:00<?, ?it/s]"
            ]
          },
          "metadata": {},
          "output_type": "display_data"
        },
        {
          "name": "stderr",
          "output_type": "stream",
          "text": [
            "Exception raised in Job[11]: RateLimitError(Error code: 429 - {'error': {'message': 'Rate limit reached for gpt-4 in organization org-TU5fm55zJrncrgPcg3lg23B6 on tokens per min (TPM): Limit 10000, Used 9930, Requested 1112. Please try again in 6.252s. Visit https://platform.openai.com/account/rate-limits to learn more.', 'type': 'tokens', 'param': None, 'code': 'rate_limit_exceeded'}})\n",
            "Exception raised in Job[4]: RateLimitError(Error code: 429 - {'error': {'message': 'Rate limit reached for gpt-4 in organization org-TU5fm55zJrncrgPcg3lg23B6 on tokens per min (TPM): Limit 10000, Used 9680, Requested 1268. Please try again in 5.688s. Visit https://platform.openai.com/account/rate-limits to learn more.', 'type': 'tokens', 'param': None, 'code': 'rate_limit_exceeded'}})\n",
            "Exception raised in Job[13]: RateLimitError(Error code: 429 - {'error': {'message': 'Rate limit reached for gpt-4 in organization org-TU5fm55zJrncrgPcg3lg23B6 on tokens per min (TPM): Limit 40000, Used 38465, Requested 1624. Please try again in 133ms. Visit https://platform.openai.com/account/rate-limits to learn more.', 'type': 'tokens', 'param': None, 'code': 'rate_limit_exceeded'}})\n",
            "Exception raised in Job[7]: RateLimitError(Error code: 429 - {'error': {'message': 'Rate limit reached for gpt-4 in organization org-TU5fm55zJrncrgPcg3lg23B6 on tokens per min (TPM): Limit 40000, Used 38741, Requested 1702. Please try again in 664ms. Visit https://platform.openai.com/account/rate-limits to learn more.', 'type': 'tokens', 'param': None, 'code': 'rate_limit_exceeded'}})\n",
            "Exception raised in Job[16]: RateLimitError(Error code: 429 - {'error': {'message': 'Rate limit reached for gpt-4 in organization org-TU5fm55zJrncrgPcg3lg23B6 on tokens per min (TPM): Limit 40000, Used 39697, Requested 1279. Please try again in 1.464s. Visit https://platform.openai.com/account/rate-limits to learn more.', 'type': 'tokens', 'param': None, 'code': 'rate_limit_exceeded'}})\n",
            "Exception raised in Job[18]: RateLimitError(Error code: 429 - {'error': {'message': 'Rate limit reached for gpt-4 in organization org-TU5fm55zJrncrgPcg3lg23B6 on tokens per min (TPM): Limit 40000, Used 39020, Requested 2066. Please try again in 1.629s. Visit https://platform.openai.com/account/rate-limits to learn more.', 'type': 'tokens', 'param': None, 'code': 'rate_limit_exceeded'}})\n",
            "Exception raised in Job[0]: RateLimitError(Error code: 429 - {'error': {'message': 'Rate limit reached for gpt-4 in organization org-TU5fm55zJrncrgPcg3lg23B6 on tokens per min (TPM): Limit 40000, Used 38918, Requested 1587. Please try again in 757ms. Visit https://platform.openai.com/account/rate-limits to learn more.', 'type': 'tokens', 'param': None, 'code': 'rate_limit_exceeded'}})\n",
            "Exception raised in Job[19]: RateLimitError(Error code: 429 - {'error': {'message': 'Rate limit reached for gpt-4 in organization org-TU5fm55zJrncrgPcg3lg23B6 on tokens per min (TPM): Limit 40000, Used 39690, Requested 2082. Please try again in 2.658s. Visit https://platform.openai.com/account/rate-limits to learn more.', 'type': 'tokens', 'param': None, 'code': 'rate_limit_exceeded'}})\n",
            "Exception raised in Job[24]: RateLimitError(Error code: 429 - {'error': {'message': 'Rate limit reached for gpt-4 in organization org-TU5fm55zJrncrgPcg3lg23B6 on tokens per min (TPM): Limit 40000, Used 39700, Requested 1987. Please try again in 2.53s. Visit https://platform.openai.com/account/rate-limits to learn more.', 'type': 'tokens', 'param': None, 'code': 'rate_limit_exceeded'}})\n",
            "Exception raised in Job[22]: RateLimitError(Error code: 429 - {'error': {'message': 'Rate limit reached for gpt-4 in organization org-TU5fm55zJrncrgPcg3lg23B6 on tokens per min (TPM): Limit 40000, Used 39411, Requested 1754. Please try again in 1.747s. Visit https://platform.openai.com/account/rate-limits to learn more.', 'type': 'tokens', 'param': None, 'code': 'rate_limit_exceeded'}})\n",
            "Exception raised in Job[25]: RateLimitError(Error code: 429 - {'error': {'message': 'Rate limit reached for gpt-4 in organization org-TU5fm55zJrncrgPcg3lg23B6 on tokens per min (TPM): Limit 40000, Used 39547, Requested 1919. Please try again in 2.199s. Visit https://platform.openai.com/account/rate-limits to learn more.', 'type': 'tokens', 'param': None, 'code': 'rate_limit_exceeded'}})\n",
            "Exception raised in Job[36]: RateLimitError(Error code: 429 - {'error': {'message': 'Rate limit reached for gpt-4 in organization org-TU5fm55zJrncrgPcg3lg23B6 on tokens per min (TPM): Limit 40000, Used 39292, Requested 1876. Please try again in 1.752s. Visit https://platform.openai.com/account/rate-limits to learn more.', 'type': 'tokens', 'param': None, 'code': 'rate_limit_exceeded'}})\n",
            "Exception raised in Job[30]: RateLimitError(Error code: 429 - {'error': {'message': 'Rate limit reached for gpt-4 in organization org-TU5fm55zJrncrgPcg3lg23B6 on tokens per min (TPM): Limit 40000, Used 39293, Requested 2346. Please try again in 2.458s. Visit https://platform.openai.com/account/rate-limits to learn more.', 'type': 'tokens', 'param': None, 'code': 'rate_limit_exceeded'}})\n",
            "Exception raised in Job[42]: RateLimitError(Error code: 429 - {'error': {'message': 'Rate limit reached for gpt-4 in organization org-TU5fm55zJrncrgPcg3lg23B6 on tokens per min (TPM): Limit 40000, Used 39229, Requested 2372. Please try again in 2.401s. Visit https://platform.openai.com/account/rate-limits to learn more.', 'type': 'tokens', 'param': None, 'code': 'rate_limit_exceeded'}})\n",
            "Exception raised in Job[54]: OutputParserException(Failed to parse StringIO from completion {\"classifications\": [{\"statement\": \"The John Wick franchise, particularly since the original film, has set a new standard for action films in Hollywood by delivering expertly choreographed, shot, and edited action sequences.\", \"reason\": \"The context mentions that the John Wick franchise has set a standard for action in Hollywood with expertly choreographed, shot, and edited action films.\", \"attributed\": 1}, {\"statement\": \"This is largely due to the technical expertise of Chad Stahelski and Keanu Reeves.\", \"reason\": \"The context mentions Chad Stahelski and Keanu Reeve's knowledge of the technical aspects of shooting action.\", \"attributed\": 1}, {\"statement\": \"The franchise is known for its creativity and has become a benchmark for great action filmmaking.\", \"reason\": \"The context mentions that the franchise is now the go to as examples of great action filmmaking.\", \"attributed\": 1}, {\"statement\": \"The fourth film, at 169 minutes long, continues this trend with an infusion of creativity.\", \"reason\": \"The context mentions that the fourth film delivers in spades and has an infusion of creativity.\", \"attributed\": 1}, {\"statement\": \"In comparison, John Wick shares similarities with international action films like THE RAID, which are known for their intensity and momentum.\", \"reason\": \"The context mentions that JOHN WICK has plenty of similarity to international fare like THE RAID films.\", \"attributed\": 1}, {\"statement\": \"Both John Wick and films like THE RAID focus on lean, pared-down filmmaking that emphasizes relentless, pulse-pounding action, making them standout examples in the action genre.\", \"reason\": \"The context mentions that JOHN WICK is about intensity and momentum, similar to THE RAID films.\", \"attributed\": 1}]}. Got: 1 validation error for StringIO\n",
            "text\n",
            "  Field required [type=missing, input_value={'classifications': [{'st...ms.', 'attributed': 1}]}, input_type=dict]\n",
            "    For further information visit https://errors.pydantic.dev/2.10/v/missing\n",
            "For troubleshooting, visit: https://python.langchain.com/docs/troubleshooting/errors/OUTPUT_PARSING_FAILURE )\n"
          ]
        },
        {
          "data": {
            "text/plain": [
              "{'context_recall': 0.5000, 'faithfulness': 0.6701, 'factual_correctness': 0.3790, 'answer_relevancy': 0.8555, 'context_entity_recall': 0.3512, 'noise_sensitivity_relevant': 0.1032}"
            ]
          },
          "execution_count": 119,
          "metadata": {},
          "output_type": "execute_result"
        }
      ],
      "source": [
        "result = evaluate(\n",
        "    dataset=evaluation_dataset,\n",
        "    metrics=[LLMContextRecall(), Faithfulness(), FactualCorrectness(), ResponseRelevancy(), ContextEntityRecall(), NoiseSensitivity()],\n",
        "    llm=evaluator_llm,\n",
        "    run_config=custom_run_config\n",
        ")\n",
        "result"
      ]
    },
    {
      "cell_type": "code",
      "execution_count": 129,
      "metadata": {},
      "outputs": [],
      "source": [
        "#prep dataset for ragas with contextual compression retrieval chain\n",
        "\n",
        "for test_row in dataset:\n",
        "  response = contextual_compression_retrieval_chain.invoke({\"question\" : test_row.eval_sample.user_input})\n",
        "  test_row.eval_sample.response = str(response[\"response\"].content)\n",
        "  test_row.eval_sample.retrieved_contexts = [context.page_content for context in response[\"context\"]]\n",
        "\n",
        "from ragas import EvaluationDataset\n",
        "\n",
        "evaluation_dataset = EvaluationDataset.from_pandas(dataset.to_pandas())"
      ]
    },
    {
      "cell_type": "code",
      "execution_count": 130,
      "metadata": {},
      "outputs": [
        {
          "data": {
            "application/vnd.jupyter.widget-view+json": {
              "model_id": "4249706e955441a68f7b211d2d185ce0",
              "version_major": 2,
              "version_minor": 0
            },
            "text/plain": [
              "Evaluating:   0%|          | 0/60 [00:00<?, ?it/s]"
            ]
          },
          "metadata": {},
          "output_type": "display_data"
        },
        {
          "name": "stderr",
          "output_type": "stream",
          "text": [
            "Exception raised in Job[36]: RateLimitError(Error code: 429 - {'error': {'message': 'Rate limit reached for gpt-4 in organization org-TU5fm55zJrncrgPcg3lg23B6 on tokens per min (TPM): Limit 40000, Used 39281, Requested 2120. Please try again in 2.101s. Visit https://platform.openai.com/account/rate-limits to learn more.', 'type': 'tokens', 'param': None, 'code': 'rate_limit_exceeded'}})\n",
            "Exception raised in Job[11]: RateLimitError(Error code: 429 - {'error': {'message': 'Rate limit reached for gpt-4 in organization org-TU5fm55zJrncrgPcg3lg23B6 on tokens per min (TPM): Limit 40000, Used 38449, Requested 1557. Please try again in 9ms. Visit https://platform.openai.com/account/rate-limits to learn more.', 'type': 'tokens', 'param': None, 'code': 'rate_limit_exceeded'}})\n",
            "Exception raised in Job[30]: OutputParserException(Failed to parse StringIO from completion {\"classifications\": [{\"statement\": \"John Wick: Chapter 3 - Parabellum is about the consequences of John's actions from the previous film, sending him on a bigger odyssey of violence while exploring the world of assassination with beautifully clean action sequences.\", \"reason\": \"The context clearly mentions that the film is about the consequences of John's actions and his journey in the world of assassination.\", \"attributed\": 1}, {\"statement\": \"The filmmakers, however, significantly forgot to add 'fantasy' to the list of genres applicable to the film.\", \"reason\": \"The context does not provide any information about the filmmakers forgetting to add 'fantasy' to the list of genres.\", \"attributed\": 0}]}. Got: 1 validation error for StringIO\n",
            "text\n",
            "  Field required [type=missing, input_value={'classifications': [{'st...es.\", 'attributed': 0}]}, input_type=dict]\n",
            "    For further information visit https://errors.pydantic.dev/2.10/v/missing\n",
            "For troubleshooting, visit: https://python.langchain.com/docs/troubleshooting/errors/OUTPUT_PARSING_FAILURE )\n",
            "Exception raised in Job[48]: OutputParserException(Failed to parse StringIO from completion {\"classifications\": [{\"statement\": \"Parabellum is not exciting because, despite John Wick being referred to as Baba Yaga, suggesting he is a supernatural being with abilities like evading death and moving with lightning-fast reflexes, his invincibility makes the action scenes predictable.\", \"reason\": \"The context mentions that John Wick is referred to as Baba Yaga, and his supernatural abilities make the action scenes predictable.\", \"attributed\": 1}, {\"statement\": \"The outcome is always that Wick survives and his enemies are dead, which removes the excitement from the action sequences.\", \"reason\": \"The context mentions that the only outcome of the action scenes is that Wick survives and his enemies are dead, which makes the scenes less exciting.\", \"attributed\": 1}]}. Got: 1 validation error for StringIO\n",
            "text\n",
            "  Field required [type=missing, input_value={'classifications': [{'st...ng.', 'attributed': 1}]}, input_type=dict]\n",
            "    For further information visit https://errors.pydantic.dev/2.10/v/missing\n",
            "For troubleshooting, visit: https://python.langchain.com/docs/troubleshooting/errors/OUTPUT_PARSING_FAILURE )\n",
            "Prompt fix_output_format failed to parse output: The output parser failed to parse the output including retries.\n",
            "Prompt fix_output_format failed to parse output: The output parser failed to parse the output including retries.\n",
            "Prompt fix_output_format failed to parse output: The output parser failed to parse the output including retries.\n",
            "Prompt context_recall_classification_prompt failed to parse output: The output parser failed to parse the output including retries.\n",
            "Exception raised in Job[24]: RagasOutputParserException(The output parser failed to parse the output including retries.)\n"
          ]
        },
        {
          "data": {
            "text/plain": [
              "{'context_recall': 0.5833, 'faithfulness': 0.7095, 'factual_correctness': 0.4090, 'answer_relevancy': 0.8544, 'context_entity_recall': 0.3665, 'noise_sensitivity_relevant': 0.4388}"
            ]
          },
          "execution_count": 130,
          "metadata": {},
          "output_type": "execute_result"
        }
      ],
      "source": [
        "result = evaluate(\n",
        "    dataset=evaluation_dataset,\n",
        "    metrics=[LLMContextRecall(), Faithfulness(), FactualCorrectness(), ResponseRelevancy(), ContextEntityRecall(), NoiseSensitivity()],\n",
        "    llm=evaluator_llm,\n",
        "    run_config=custom_run_config\n",
        ")\n",
        "result"
      ]
    },
    {
      "cell_type": "code",
      "execution_count": 131,
      "metadata": {},
      "outputs": [],
      "source": [
        "#prep dataset for ragas with multi_query retrieval chain\n",
        "\n",
        "for test_row in dataset:\n",
        "  response = multi_query_retrieval_chain.invoke({\"question\" : test_row.eval_sample.user_input})\n",
        "  test_row.eval_sample.response = str(response[\"response\"].content)\n",
        "  test_row.eval_sample.retrieved_contexts = [context.page_content for context in response[\"context\"]]\n",
        "\n",
        "from ragas import EvaluationDataset\n",
        "\n",
        "evaluation_dataset = EvaluationDataset.from_pandas(dataset.to_pandas())"
      ]
    },
    {
      "cell_type": "code",
      "execution_count": 132,
      "metadata": {},
      "outputs": [
        {
          "data": {
            "application/vnd.jupyter.widget-view+json": {
              "model_id": "44ca2759b7084019a93e1aee80ace792",
              "version_major": 2,
              "version_minor": 0
            },
            "text/plain": [
              "Evaluating:   0%|          | 0/60 [00:00<?, ?it/s]"
            ]
          },
          "metadata": {},
          "output_type": "display_data"
        },
        {
          "name": "stderr",
          "output_type": "stream",
          "text": [
            "Exception raised in Job[24]: RateLimitError(Error code: 429 - {'error': {'message': 'Rate limit reached for gpt-4 in organization org-TU5fm55zJrncrgPcg3lg23B6 on tokens per min (TPM): Limit 40000, Used 39329, Requested 3239. Please try again in 3.851s. Visit https://platform.openai.com/account/rate-limits to learn more.', 'type': 'tokens', 'param': None, 'code': 'rate_limit_exceeded'}})\n",
            "Exception raised in Job[30]: RateLimitError(Error code: 429 - {'error': {'message': 'Rate limit reached for gpt-4 in organization org-TU5fm55zJrncrgPcg3lg23B6 on tokens per min (TPM): Limit 40000, Used 39890, Requested 3640. Please try again in 5.295s. Visit https://platform.openai.com/account/rate-limits to learn more.', 'type': 'tokens', 'param': None, 'code': 'rate_limit_exceeded'}})\n",
            "Exception raised in Job[25]: RateLimitError(Error code: 429 - {'error': {'message': 'Rate limit reached for gpt-4 in organization org-TU5fm55zJrncrgPcg3lg23B6 on tokens per min (TPM): Limit 40000, Used 39046, Requested 3192. Please try again in 3.357s. Visit https://platform.openai.com/account/rate-limits to learn more.', 'type': 'tokens', 'param': None, 'code': 'rate_limit_exceeded'}})\n",
            "Exception raised in Job[28]: RateLimitError(Error code: 429 - {'error': {'message': 'Rate limit reached for gpt-4 in organization org-TU5fm55zJrncrgPcg3lg23B6 on tokens per min (TPM): Limit 40000, Used 39886, Requested 2888. Please try again in 4.161s. Visit https://platform.openai.com/account/rate-limits to learn more.', 'type': 'tokens', 'param': None, 'code': 'rate_limit_exceeded'}})\n",
            "Exception raised in Job[7]: RateLimitError(Error code: 429 - {'error': {'message': 'Rate limit reached for gpt-4 in organization org-TU5fm55zJrncrgPcg3lg23B6 on tokens per min (TPM): Limit 40000, Used 39292, Requested 3974. Please try again in 4.899s. Visit https://platform.openai.com/account/rate-limits to learn more.', 'type': 'tokens', 'param': None, 'code': 'rate_limit_exceeded'}})\n",
            "Exception raised in Job[22]: RateLimitError(Error code: 429 - {'error': {'message': 'Rate limit reached for gpt-4 in organization org-TU5fm55zJrncrgPcg3lg23B6 on tokens per min (TPM): Limit 40000, Used 39440, Requested 3325. Please try again in 4.147s. Visit https://platform.openai.com/account/rate-limits to learn more.', 'type': 'tokens', 'param': None, 'code': 'rate_limit_exceeded'}})\n",
            "Exception raised in Job[16]: RateLimitError(Error code: 429 - {'error': {'message': 'Rate limit reached for gpt-4 in organization org-TU5fm55zJrncrgPcg3lg23B6 on tokens per min (TPM): Limit 40000, Used 39227, Requested 3811. Please try again in 4.557s. Visit https://platform.openai.com/account/rate-limits to learn more.', 'type': 'tokens', 'param': None, 'code': 'rate_limit_exceeded'}})\n",
            "Exception raised in Job[19]: RateLimitError(Error code: 429 - {'error': {'message': 'Rate limit reached for gpt-4 in organization org-TU5fm55zJrncrgPcg3lg23B6 on tokens per min (TPM): Limit 40000, Used 39033, Requested 3661. Please try again in 4.04s. Visit https://platform.openai.com/account/rate-limits to learn more.', 'type': 'tokens', 'param': None, 'code': 'rate_limit_exceeded'}})\n",
            "Exception raised in Job[13]: RateLimitError(Error code: 429 - {'error': {'message': 'Rate limit reached for gpt-4 in organization org-TU5fm55zJrncrgPcg3lg23B6 on tokens per min (TPM): Limit 40000, Used 39771, Requested 4149. Please try again in 5.88s. Visit https://platform.openai.com/account/rate-limits to learn more.', 'type': 'tokens', 'param': None, 'code': 'rate_limit_exceeded'}})\n",
            "Exception raised in Job[34]: RateLimitError(Error code: 429 - {'error': {'message': 'Rate limit reached for gpt-4 in organization org-TU5fm55zJrncrgPcg3lg23B6 on tokens per min (TPM): Limit 40000, Used 38786, Requested 3262. Please try again in 3.072s. Visit https://platform.openai.com/account/rate-limits to learn more.', 'type': 'tokens', 'param': None, 'code': 'rate_limit_exceeded'}})\n",
            "Exception raised in Job[5]: TimeoutError()\n",
            "Exception raised in Job[11]: TimeoutError()\n",
            "Exception raised in Job[17]: TimeoutError()\n",
            "Exception raised in Job[23]: TimeoutError()\n",
            "Exception raised in Job[38]: RateLimitError(Error code: 429 - {'error': {'message': 'Rate limit reached for gpt-4 in organization org-TU5fm55zJrncrgPcg3lg23B6 on tokens per min (TPM): Limit 40000, Used 38919, Requested 1540. Please try again in 688ms. Visit https://platform.openai.com/account/rate-limits to learn more.', 'type': 'tokens', 'param': None, 'code': 'rate_limit_exceeded'}})\n",
            "Exception raised in Job[42]: RateLimitError(Error code: 429 - {'error': {'message': 'Rate limit reached for gpt-4 in organization org-TU5fm55zJrncrgPcg3lg23B6 on tokens per min (TPM): Limit 40000, Used 39537, Requested 3674. Please try again in 4.816s. Visit https://platform.openai.com/account/rate-limits to learn more.', 'type': 'tokens', 'param': None, 'code': 'rate_limit_exceeded'}})\n",
            "Exception raised in Job[43]: RateLimitError(Error code: 429 - {'error': {'message': 'Rate limit reached for gpt-4 in organization org-TU5fm55zJrncrgPcg3lg23B6 on tokens per min (TPM): Limit 40000, Used 39622, Requested 3643. Please try again in 4.897s. Visit https://platform.openai.com/account/rate-limits to learn more.', 'type': 'tokens', 'param': None, 'code': 'rate_limit_exceeded'}})\n",
            "Exception raised in Job[36]: RateLimitError(Error code: 429 - {'error': {'message': 'Rate limit reached for gpt-4 in organization org-TU5fm55zJrncrgPcg3lg23B6 on tokens per min (TPM): Limit 40000, Used 39396, Requested 3584. Please try again in 4.47s. Visit https://platform.openai.com/account/rate-limits to learn more.', 'type': 'tokens', 'param': None, 'code': 'rate_limit_exceeded'}})\n",
            "Exception raised in Job[35]: TimeoutError()\n",
            "Exception raised in Job[48]: OutputParserException(Failed to parse StringIO from completion {\"classifications\": [{\"statement\": \"Parabellum is not exciting because, despite John Wick being referred to as Baba Yaga, suggesting he is a supernatural being with abilities like evading death and moving with lightning-fast reflexes, his invincibility makes the action scenes predictable.\", \"reason\": \"The context mentions John Wick being referred to as Baba Yaga and his supernatural abilities, as well as the predictability of the action scenes due to his invincibility.\", \"attributed\": 1}, {\"statement\": \"The outcome is always that Wick survives and his enemies are dead, which removes the excitement from the action sequences.\", \"reason\": \"The context mentions that the outcome of the action scenes is always that Wick survives and his enemies are dead, which removes the excitement.\", \"attributed\": 1}]}. Got: 1 validation error for StringIO\n",
            "text\n",
            "  Field required [type=missing, input_value={'classifications': [{'st...nt.', 'attributed': 1}]}, input_type=dict]\n",
            "    For further information visit https://errors.pydantic.dev/2.10/v/missing\n",
            "For troubleshooting, visit: https://python.langchain.com/docs/troubleshooting/errors/OUTPUT_PARSING_FAILURE )\n",
            "Exception raised in Job[41]: TimeoutError()\n",
            "Exception raised in Job[54]: LLMDidNotFinishException(The LLM generation was not completed. Please increase try increasing the max_tokens and try again.)\n",
            "Exception raised in Job[47]: TimeoutError()\n",
            "Exception raised in Job[53]: TimeoutError()\n",
            "Exception raised in Job[59]: TimeoutError()\n"
          ]
        },
        {
          "data": {
            "text/plain": [
              "{'context_recall': 0.8750, 'faithfulness': 0.5676, 'factual_correctness': 0.4256, 'answer_relevancy': 0.8565, 'context_entity_recall': 0.4556, 'noise_sensitivity_relevant': 0.0000}"
            ]
          },
          "execution_count": 132,
          "metadata": {},
          "output_type": "execute_result"
        }
      ],
      "source": [
        "result = evaluate(\n",
        "    dataset=evaluation_dataset,\n",
        "    metrics=[LLMContextRecall(), Faithfulness(), FactualCorrectness(), ResponseRelevancy(), ContextEntityRecall(), NoiseSensitivity()],\n",
        "    llm=evaluator_llm,\n",
        "    run_config=custom_run_config\n",
        ")\n",
        "result"
      ]
    },
    {
      "cell_type": "code",
      "execution_count": 140,
      "metadata": {},
      "outputs": [],
      "source": [
        "#prep dataset for ragas with parent document retrieval chain\n",
        "\n",
        "for test_row in dataset:\n",
        "  response = parent_document_retrieval_chain.invoke({\"question\" : test_row.eval_sample.user_input})\n",
        "  test_row.eval_sample.response = str(response[\"response\"].content)\n",
        "  test_row.eval_sample.retrieved_contexts = [context.page_content for context in response[\"context\"]]\n",
        "\n",
        "evaluation_dataset = EvaluationDataset.from_pandas(dataset.to_pandas())"
      ]
    },
    {
      "cell_type": "code",
      "execution_count": 141,
      "metadata": {},
      "outputs": [
        {
          "data": {
            "application/vnd.jupyter.widget-view+json": {
              "model_id": "d7a52842ff9442089e5ad3ea60458ab8",
              "version_major": 2,
              "version_minor": 0
            },
            "text/plain": [
              "Evaluating:   0%|          | 0/60 [00:00<?, ?it/s]"
            ]
          },
          "metadata": {},
          "output_type": "display_data"
        },
        {
          "data": {
            "text/plain": [
              "{'context_recall': 0.4267, 'faithfulness': 0.6800, 'factual_correctness': 0.3970, 'answer_relevancy': 0.8521, 'context_entity_recall': 0.3399, 'noise_sensitivity_relevant': 0.1967}"
            ]
          },
          "execution_count": 141,
          "metadata": {},
          "output_type": "execute_result"
        }
      ],
      "source": [
        "result = evaluate(\n",
        "    dataset=evaluation_dataset,\n",
        "    metrics=[LLMContextRecall(), Faithfulness(), FactualCorrectness(), ResponseRelevancy(), ContextEntityRecall(), NoiseSensitivity()],\n",
        "    llm=evaluator_llm,\n",
        "    run_config=custom_run_config\n",
        ")\n",
        "result"
      ]
    },
    {
      "cell_type": "code",
      "execution_count": 142,
      "metadata": {},
      "outputs": [],
      "source": [
        "#prep dataset for ragas with ensemble retrieval chain\n",
        "\n",
        "for test_row in dataset:\n",
        "  response = ensemble_retrieval_chain.invoke({\"question\" : test_row.eval_sample.user_input})\n",
        "  test_row.eval_sample.response = str(response[\"response\"].content)\n",
        "  test_row.eval_sample.retrieved_contexts = [context.page_content for context in response[\"context\"]]\n",
        "\n",
        "evaluation_dataset = EvaluationDataset.from_pandas(dataset.to_pandas())"
      ]
    },
    {
      "cell_type": "code",
      "execution_count": 144,
      "metadata": {},
      "outputs": [
        {
          "data": {
            "application/vnd.jupyter.widget-view+json": {
              "model_id": "55840d9a1bf44bf282907230b906644f",
              "version_major": 2,
              "version_minor": 0
            },
            "text/plain": [
              "Evaluating:   0%|          | 0/60 [00:00<?, ?it/s]"
            ]
          },
          "metadata": {},
          "output_type": "display_data"
        },
        {
          "name": "stderr",
          "output_type": "stream",
          "text": [
            "Exception raised in Job[49]: RateLimitError(Error code: 429 - {'error': {'message': 'Rate limit reached for gpt-4 in organization org-TU5fm55zJrncrgPcg3lg23B6 on tokens per min (TPM): Limit 80000, Used 79140, Requested 4114. Please try again in 2.44s. Visit https://platform.openai.com/account/rate-limits to learn more.', 'type': 'tokens', 'param': None, 'code': 'rate_limit_exceeded'}})\n",
            "Exception raised in Job[6]: BadRequestError(Error code: 400 - {'error': {'message': \"This model's maximum context length is 8192 tokens. However, your messages resulted in 9893 tokens. Please reduce the length of the messages.\", 'type': 'invalid_request_error', 'param': 'messages', 'code': 'context_length_exceeded'}})\n",
            "Exception raised in Job[30]: OutputParserException(Failed to parse StringIO from completion {\"classifications\": [{\"statement\": \"John Wick: Chapter 3 - Parabellum is about the consequences of John's actions from the previous film, sending him on a bigger odyssey of violence while exploring the world of assassination with beautifully clean action sequences.\", \"reason\": \"The context provides a review that describes the film in the same way.\", \"attributed\": 1}, {\"statement\": \"The filmmakers, however, significantly forgot to add 'fantasy' to the list of genres applicable to the film.\", \"reason\": \"The context includes a review that mentions the filmmakers forgetting to add 'fantasy' to the list of genres.\", \"attributed\": 1}]}. Got: 1 validation error for StringIO\n",
            "text\n",
            "  Field required [type=missing, input_value={'classifications': [{'st...es.\", 'attributed': 1}]}, input_type=dict]\n",
            "    For further information visit https://errors.pydantic.dev/2.10/v/missing\n",
            "For troubleshooting, visit: https://python.langchain.com/docs/troubleshooting/errors/OUTPUT_PARSING_FAILURE )\n",
            "Exception raised in Job[11]: TimeoutError()\n",
            "Exception raised in Job[17]: TimeoutError()\n",
            "Exception raised in Job[29]: TimeoutError()\n",
            "Exception raised in Job[35]: TimeoutError()\n",
            "Exception raised in Job[41]: TimeoutError()\n",
            "Exception raised in Job[47]: TimeoutError()\n",
            "Exception raised in Job[53]: TimeoutError()\n",
            "Exception raised in Job[59]: TimeoutError()\n"
          ]
        },
        {
          "data": {
            "text/plain": [
              "{'context_recall': 0.9375, 'faithfulness': 0.8999, 'factual_correctness': 0.3460, 'answer_relevancy': 0.8592, 'context_entity_recall': 0.3983, 'noise_sensitivity_relevant': 0.8333}"
            ]
          },
          "execution_count": 144,
          "metadata": {},
          "output_type": "execute_result"
        }
      ],
      "source": [
        "result = evaluate(\n",
        "    dataset=evaluation_dataset,\n",
        "    metrics=[LLMContextRecall(), Faithfulness(), FactualCorrectness(), ResponseRelevancy(), ContextEntityRecall(), NoiseSensitivity()],\n",
        "    llm=evaluator_llm,\n",
        "    run_config=custom_run_config\n",
        ")\n",
        "result"
      ]
    },
    {
      "cell_type": "code",
      "execution_count": null,
      "metadata": {},
      "outputs": [],
      "source": []
    },
    {
      "cell_type": "markdown",
      "metadata": {},
      "source": []
    },
    {
      "cell_type": "code",
      "execution_count": null,
      "metadata": {},
      "outputs": [],
      "source": []
    },
    {
      "cell_type": "markdown",
      "metadata": {},
      "source": [
        "Results"
      ]
    },
    {
      "cell_type": "markdown",
      "metadata": {},
      "source": [
        "naive_retrieval_chain  \n",
        "    {'context_recall': 0.7500, 'faithfulness': 0.9750, 'factual_correctness': 0.3970, 'answer_relevancy': 0.7644, 'context_entity_recall': 0.5107, 'noise_sensitivity_relevant': 0.3000}  \n",
        "p50 latency 1.50 seconds  \n",
        "Cost $0.002  \n",
        "\n",
        "bm25_retrieval_chain  \n",
        "    {'context_recall': 0.5000, 'faithfulness': 0.6701, 'factual_correctness': 0.3790, 'answer_relevancy': 0.8555, 'context_entity_recall': 0.3512, 'noise_sensitivity_relevant': 0.1032}  \n",
        "p50 latency 0.72 seconds  \n",
        "Cost $0.001  \n",
        "\n",
        "contextual_compression_retrieval_chain  \n",
        "    {'context_recall': 0.5833, 'faithfulness': 0.7095, 'factual_correctness': 0.4090, 'answer_relevancy': 0.8544, 'context_entity_recall': 0.3665, 'noise_sensitivity_relevant': 0.4388}  \n",
        "p50 latency 1.71s seconds  \n",
        "Cost $0.001  \n",
        "\n",
        "\n",
        "multi_query_retrieval_chain  \n",
        "    {'context_recall': 0.8750, 'faithfulness': 0.5676, 'factual_correctness': 0.4256, 'answer_relevancy': 0.8565, 'context_entity_recall': 0.4556, 'noise_sensitivity_relevant': 0.0000}  \n",
        "p50 latency 2.90 seconds  \n",
        "Cost $0.003  \n",
        "\n",
        "parent_document_retrieval_chain  \n",
        "    {'context_recall': 0.4267, 'faithfulness': 0.6800, 'factual_correctness': 0.3970, 'answer_relevancy': 0.8521, 'context_entity_recall': 0.3399, 'noise_sensitivity_relevant': 0.1967}  \n",
        "p50 latency 1.27 seconds  \n",
        "Cost $0.003  \n",
        "\n",
        "ensemble_retrieval_chain  \n",
        "    {'context_recall': 0.9375, 'faithfulness': 0.8999, 'factual_correctness': 0.3460, 'answer_relevancy': 0.8592, 'context_entity_recall': 0.3983, 'noise_sensitivity_relevant': 0.8333}  \n",
        "p50 latency 3.81 seconds  \n",
        "Cost $0.003  \n",
        "\n",
        "\n"
      ]
    },
    {
      "cell_type": "markdown",
      "metadata": {},
      "source": [
        "### Comparison of Retriever Methods\n",
        "\n",
        "| Method                             | Context Recall | Faithfulness | Factual Correctness | Answer Relevancy | Context Entity Recall | Noise Sensitivity | Latency (p50) | Cost  |\n",
        "|------------------------------------|---------------|-------------|--------------------|-----------------|--------------------|-----------------|------------|------|\n",
        "| **Naive Retrieval Chain**         | 0.7500        | 0.9750      | 0.3970            | 0.7644          | 0.5107             | 0.3000          | 1.50s      | $0.002 |\n",
        "| **BM25 Retrieval Chain**          | 0.5000        | 0.6701      | 0.3790            | 0.8555          | 0.3512             | 0.1032          | 0.72s      | $0.001 |\n",
        "| **Contextual Compression Chain**  | 0.5833        | 0.7095      | 0.4090            | 0.8544          | 0.3665             | 0.4388          | 1.71s      | $0.001 |\n",
        "| **Multi-Query Retrieval Chain**   | 0.8750        | 0.5676      | 0.4256            | 0.8565          | 0.4556             | 0.0000          | 2.90s      | $0.003 |\n",
        "| **Parent-Document Retrieval Chain** | 0.4267      | 0.6800      | 0.3970            | 0.8521          | 0.3399             | 0.1967          | 1.27s      | $0.003 |\n",
        "| **Ensemble Retrieval Chain**      | 0.9375        | 0.8999      | 0.3460            | 0.8592          | 0.3983             | 0.8333          | 3.81s      | $0.003 |\n",
        "\n",
        "### Best Retriever for This Dataset\n",
        "\n",
        "From the results, **Ensemble Retrieval Chain** has the highest **context recall (0.9375)** and **faithfulness (0.8999)**, making it the most reliable for retrieving relevant content. However, it has a **high noise sensitivity (0.8333)**, the **highest latency (3.81s)**, and a cost of **$0.003** per query, which is on the higher end.\n",
        "\n",
        "If cost and latency are primary concerns, **BM25 Retrieval Chain** provides a **low-cost ($0.001), low-latency (0.72s) alternative** with reasonable answer relevancy (0.8555). However, its **context recall is the lowest (0.5000)**, meaning it may miss key information.\n",
        "\n",
        "For a balance of performance, cost, and latency, **Naive Retrieval Chain** seems like a strong contender. It has **high faithfulness (0.9750), good recall (0.7500), and moderate latency (1.50s) at a cost of $0.002**. It performs better than BM25 in recall and faithfulness while keeping latency and cost manageable.\n",
        "\n",
        "### Conclusion\n",
        "\n",
        "- **If accuracy is the most important factor**: **Ensemble Retrieval Chain** is the best choice.\n",
        "- **If speed and cost efficiency are priorities**: **BM25 Retrieval Chain** is preferable.\n",
        "- **If a balance of performance, cost, and latency is needed**: **Naive Retrieval Chain** offers a good trade-off.\n"
      ]
    }
  ],
  "metadata": {
    "colab": {
      "provenance": [],
      "toc_visible": true
    },
    "kernelspec": {
      "display_name": ".venv",
      "language": "python",
      "name": "python3"
    },
    "language_info": {
      "codemirror_mode": {
        "name": "ipython",
        "version": 3
      },
      "file_extension": ".py",
      "mimetype": "text/x-python",
      "name": "python",
      "nbconvert_exporter": "python",
      "pygments_lexer": "ipython3",
      "version": "3.13.1"
    }
  },
  "nbformat": 4,
  "nbformat_minor": 0
}
