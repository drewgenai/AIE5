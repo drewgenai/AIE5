{
 "cells": [
  {
   "cell_type": "code",
   "execution_count": 1,
   "metadata": {},
   "outputs": [],
   "source": [
    "from langchain_ollama import ChatOllama\n",
    "\n",
    "llm = ChatOllama(model=\"deepseek-r1:8b\")"
   ]
  },
  {
   "cell_type": "code",
   "execution_count": 2,
   "metadata": {},
   "outputs": [
    {
     "name": "stdout",
     "output_type": "stream",
     "text": [
      "<think>\n",
      "To find the cube root of 27, I start by understanding that a cube root of a number is a value that, when multiplied by itself twice more, gives the original number. So, for 27, I'm looking for a number x such that x × x × x equals 27.\n",
      "\n",
      "I can test some numbers to see which one satisfies this condition. Trying 3 first, since 3 cubed is 27. Therefore, 3 is the cube root of 27.\n",
      "</think>\n",
      "\n",
      "To find the **cube root** of **27**, we need to determine a number that, when multiplied by itself twice, equals **27**.\n",
      "\n",
      "\\[\n",
      "\\sqrt[3]{27} = x \\quad \\text{such that} \\quad x \\times x \\times x = 27\n",
      "\\]\n",
      "\n",
      "Let's test some numbers:\n",
      "\n",
      "1. **Testing \\( x = 3 \\):**\n",
      "   \\[\n",
      "   3 \\times 3 \\times 3 = 9 \\times 3 = 27\n",
      "   \\]\n",
      "   \n",
      "   This satisfies the equation because \\( 3^3 = 27 \\).\n",
      "\n",
      "2. **Testing \\( x = -3 \\):**\n",
      "   \\[\n",
      "   (-3) \\times (-3) \\times (-3) = 9 \\times (-3) = -27\n",
      "   \\]\n",
      "   \n",
      "   This does not satisfy the equation because it results in \\(-27\\), not \\(27\\).\n",
      "\n",
      "Since we're looking for the cube root of a positive number, **we consider only the positive value**.\n",
      "\n",
      "\\[\n",
      "\\boxed{3}\n",
      "\\]"
     ]
    }
   ],
   "source": [
    "for chunk in llm.stream(\"What is the 3rd root of 27?\"):\n",
    "    print(chunk.content, end=\"\")"
   ]
  }
 ],
 "metadata": {
  "kernelspec": {
   "display_name": ".venv",
   "language": "python",
   "name": "python3"
  },
  "language_info": {
   "codemirror_mode": {
    "name": "ipython",
    "version": 3
   },
   "file_extension": ".py",
   "mimetype": "text/x-python",
   "name": "python",
   "nbconvert_exporter": "python",
   "pygments_lexer": "ipython3",
   "version": "3.13.1"
  }
 },
 "nbformat": 4,
 "nbformat_minor": 2
}
